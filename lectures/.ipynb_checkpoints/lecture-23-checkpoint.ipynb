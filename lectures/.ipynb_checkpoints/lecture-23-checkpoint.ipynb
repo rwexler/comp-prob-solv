{
 "cells": [
  {
   "cell_type": "code",
   "execution_count": 2,
   "id": "db1fd34b-eae1-4216-b34a-215a03f1f26a",
   "metadata": {
    "collapsed": true,
    "jupyter": {
     "outputs_hidden": true
    },
    "scrolled": true
   },
   "outputs": [
    {
     "name": "stdout",
     "output_type": "stream",
     "text": [
      "Requirement already satisfied: ase in /Users/robertwexler/miniconda3/envs/comp-prob-solv/lib/python3.12/site-packages (3.23.0)\n",
      "Requirement already satisfied: numpy>=1.18.5 in /Users/robertwexler/miniconda3/envs/comp-prob-solv/lib/python3.12/site-packages (from ase) (1.26.4)\n",
      "Requirement already satisfied: scipy>=1.6.0 in /Users/robertwexler/miniconda3/envs/comp-prob-solv/lib/python3.12/site-packages (from ase) (1.14.0)\n",
      "Requirement already satisfied: matplotlib>=3.3.4 in /Users/robertwexler/miniconda3/envs/comp-prob-solv/lib/python3.12/site-packages (from ase) (3.9.1)\n",
      "Requirement already satisfied: contourpy>=1.0.1 in /Users/robertwexler/miniconda3/envs/comp-prob-solv/lib/python3.12/site-packages (from matplotlib>=3.3.4->ase) (1.2.1)\n",
      "Requirement already satisfied: cycler>=0.10 in /Users/robertwexler/miniconda3/envs/comp-prob-solv/lib/python3.12/site-packages (from matplotlib>=3.3.4->ase) (0.12.1)\n",
      "Requirement already satisfied: fonttools>=4.22.0 in /Users/robertwexler/miniconda3/envs/comp-prob-solv/lib/python3.12/site-packages (from matplotlib>=3.3.4->ase) (4.53.1)\n",
      "Requirement already satisfied: kiwisolver>=1.3.1 in /Users/robertwexler/miniconda3/envs/comp-prob-solv/lib/python3.12/site-packages (from matplotlib>=3.3.4->ase) (1.4.5)\n",
      "Requirement already satisfied: packaging>=20.0 in /Users/robertwexler/miniconda3/envs/comp-prob-solv/lib/python3.12/site-packages (from matplotlib>=3.3.4->ase) (24.1)\n",
      "Requirement already satisfied: pillow>=8 in /Users/robertwexler/miniconda3/envs/comp-prob-solv/lib/python3.12/site-packages (from matplotlib>=3.3.4->ase) (10.4.0)\n",
      "Requirement already satisfied: pyparsing>=2.3.1 in /Users/robertwexler/miniconda3/envs/comp-prob-solv/lib/python3.12/site-packages (from matplotlib>=3.3.4->ase) (3.1.2)\n",
      "Requirement already satisfied: python-dateutil>=2.7 in /Users/robertwexler/miniconda3/envs/comp-prob-solv/lib/python3.12/site-packages (from matplotlib>=3.3.4->ase) (2.9.0)\n",
      "Requirement already satisfied: six>=1.5 in /Users/robertwexler/miniconda3/envs/comp-prob-solv/lib/python3.12/site-packages (from python-dateutil>=2.7->matplotlib>=3.3.4->ase) (1.16.0)\n"
     ]
    }
   ],
   "source": [
    "!pip install ase"
   ]
  },
  {
   "cell_type": "code",
   "execution_count": 3,
   "id": "a80dd78a-98b1-4cc2-88f7-56ef3b726ebb",
   "metadata": {},
   "outputs": [],
   "source": [
    "from ase import Atoms"
   ]
  },
  {
   "cell_type": "code",
   "execution_count": 4,
   "id": "41d99e80-cfe3-448f-8787-732f98171d71",
   "metadata": {},
   "outputs": [],
   "source": [
    "atoms = Atoms(\n",
    "    symbols=\"CO\",\n",
    "    positions=[(0, 0, 0), (1.2, 0, 0)],  # Å\n",
    ")"
   ]
  },
  {
   "cell_type": "code",
   "execution_count": 5,
   "id": "6b85b2ab-8c4f-4e84-80b7-62c5352ddf79",
   "metadata": {},
   "outputs": [
    {
     "data": {
      "text/plain": [
       "Atoms(symbols='CO', pbc=False)"
      ]
     },
     "execution_count": 5,
     "metadata": {},
     "output_type": "execute_result"
    }
   ],
   "source": [
    "atoms"
   ]
  },
  {
   "cell_type": "code",
   "execution_count": 6,
   "id": "fcad6ce3-36f9-4bbb-964b-139e516ce9b6",
   "metadata": {},
   "outputs": [],
   "source": [
    "from ase.visualize import view"
   ]
  },
  {
   "cell_type": "code",
   "execution_count": 8,
   "id": "7290bb56-de81-4c65-9a47-d20863bf5259",
   "metadata": {},
   "outputs": [
    {
     "data": {
      "text/plain": [
       "<Popen: returncode: None args: ['/Users/robertwexler/miniconda3/envs/comp-pr...>"
      ]
     },
     "execution_count": 8,
     "metadata": {},
     "output_type": "execute_result"
    }
   ],
   "source": [
    "view(atoms)"
   ]
  },
  {
   "cell_type": "code",
   "execution_count": 9,
   "id": "84cc5abd-0d24-4c61-ae14-7992c42555df",
   "metadata": {},
   "outputs": [],
   "source": [
    "from ase.io import read, write"
   ]
  },
  {
   "cell_type": "code",
   "execution_count": 10,
   "id": "09b31671-acfc-44ff-8f27-1324f27a69a4",
   "metadata": {},
   "outputs": [],
   "source": [
    "write(filename=\"CO.xyz\", images=atoms, format=\"xyz\")"
   ]
  },
  {
   "cell_type": "code",
   "execution_count": 11,
   "id": "edb41776-bfd2-493f-8ad1-1998eed588ad",
   "metadata": {},
   "outputs": [],
   "source": [
    "atoms = read(\"CO.xyz\")"
   ]
  },
  {
   "cell_type": "code",
   "execution_count": 12,
   "id": "c3de0826-ca74-45e3-8cc3-6c6c08960811",
   "metadata": {},
   "outputs": [
    {
     "data": {
      "text/plain": [
       "<Popen: returncode: None args: ['/Users/robertwexler/miniconda3/envs/comp-pr...>"
      ]
     },
     "execution_count": 12,
     "metadata": {},
     "output_type": "execute_result"
    }
   ],
   "source": [
    "view(atoms)"
   ]
  },
  {
   "cell_type": "markdown",
   "id": "a034450b-d41b-4165-a79f-2a86f22dd915",
   "metadata": {},
   "source": [
    "Optimize CO bond length"
   ]
  },
  {
   "cell_type": "code",
   "execution_count": 13,
   "id": "98ce8ae2-867f-450e-9ba7-0a653e0400fb",
   "metadata": {
    "collapsed": true,
    "jupyter": {
     "outputs_hidden": true
    }
   },
   "outputs": [
    {
     "name": "stdout",
     "output_type": "stream",
     "text": [
      "Requirement already satisfied: mace-torch in /Users/robertwexler/miniconda3/envs/comp-prob-solv/lib/python3.12/site-packages (0.3.6)\n",
      "Requirement already satisfied: torch>=1.12 in /Users/robertwexler/miniconda3/envs/comp-prob-solv/lib/python3.12/site-packages (from mace-torch) (2.5.1)\n",
      "Requirement already satisfied: e3nn==0.4.4 in /Users/robertwexler/miniconda3/envs/comp-prob-solv/lib/python3.12/site-packages (from mace-torch) (0.4.4)\n",
      "Requirement already satisfied: numpy<2.0 in /Users/robertwexler/miniconda3/envs/comp-prob-solv/lib/python3.12/site-packages (from mace-torch) (1.26.4)\n",
      "Requirement already satisfied: opt-einsum in /Users/robertwexler/miniconda3/envs/comp-prob-solv/lib/python3.12/site-packages (from mace-torch) (3.4.0)\n",
      "Requirement already satisfied: ase in /Users/robertwexler/miniconda3/envs/comp-prob-solv/lib/python3.12/site-packages (from mace-torch) (3.23.0)\n",
      "Requirement already satisfied: torch-ema in /Users/robertwexler/miniconda3/envs/comp-prob-solv/lib/python3.12/site-packages (from mace-torch) (0.3)\n",
      "Requirement already satisfied: prettytable in /Users/robertwexler/miniconda3/envs/comp-prob-solv/lib/python3.12/site-packages (from mace-torch) (3.12.0)\n",
      "Requirement already satisfied: matscipy in /Users/robertwexler/miniconda3/envs/comp-prob-solv/lib/python3.12/site-packages (from mace-torch) (1.1.1)\n",
      "Requirement already satisfied: h5py in /Users/robertwexler/miniconda3/envs/comp-prob-solv/lib/python3.12/site-packages (from mace-torch) (3.12.1)\n",
      "Requirement already satisfied: torchmetrics in /Users/robertwexler/miniconda3/envs/comp-prob-solv/lib/python3.12/site-packages (from mace-torch) (1.5.1)\n",
      "Requirement already satisfied: python-hostlist in /Users/robertwexler/miniconda3/envs/comp-prob-solv/lib/python3.12/site-packages (from mace-torch) (2.0.0)\n",
      "Requirement already satisfied: configargparse in /Users/robertwexler/miniconda3/envs/comp-prob-solv/lib/python3.12/site-packages (from mace-torch) (1.7)\n",
      "Requirement already satisfied: GitPython in /Users/robertwexler/miniconda3/envs/comp-prob-solv/lib/python3.12/site-packages (from mace-torch) (3.1.43)\n",
      "Requirement already satisfied: tqdm in /Users/robertwexler/miniconda3/envs/comp-prob-solv/lib/python3.12/site-packages (from mace-torch) (4.66.6)\n",
      "Requirement already satisfied: matplotlib in /Users/robertwexler/miniconda3/envs/comp-prob-solv/lib/python3.12/site-packages (from mace-torch) (3.9.1)\n",
      "Requirement already satisfied: pandas in /Users/robertwexler/miniconda3/envs/comp-prob-solv/lib/python3.12/site-packages (from mace-torch) (2.2.2)\n",
      "Requirement already satisfied: sympy in /Users/robertwexler/miniconda3/envs/comp-prob-solv/lib/python3.12/site-packages (from e3nn==0.4.4->mace-torch) (1.13.1)\n",
      "Requirement already satisfied: scipy in /Users/robertwexler/miniconda3/envs/comp-prob-solv/lib/python3.12/site-packages (from e3nn==0.4.4->mace-torch) (1.14.0)\n",
      "Requirement already satisfied: opt-einsum-fx>=0.1.4 in /Users/robertwexler/miniconda3/envs/comp-prob-solv/lib/python3.12/site-packages (from e3nn==0.4.4->mace-torch) (0.1.4)\n",
      "Requirement already satisfied: filelock in /Users/robertwexler/miniconda3/envs/comp-prob-solv/lib/python3.12/site-packages (from torch>=1.12->mace-torch) (3.16.1)\n",
      "Requirement already satisfied: typing-extensions>=4.8.0 in /Users/robertwexler/miniconda3/envs/comp-prob-solv/lib/python3.12/site-packages (from torch>=1.12->mace-torch) (4.12.2)\n",
      "Requirement already satisfied: networkx in /Users/robertwexler/miniconda3/envs/comp-prob-solv/lib/python3.12/site-packages (from torch>=1.12->mace-torch) (3.4.2)\n",
      "Requirement already satisfied: jinja2 in /Users/robertwexler/miniconda3/envs/comp-prob-solv/lib/python3.12/site-packages (from torch>=1.12->mace-torch) (3.1.4)\n",
      "Requirement already satisfied: fsspec in /Users/robertwexler/miniconda3/envs/comp-prob-solv/lib/python3.12/site-packages (from torch>=1.12->mace-torch) (2024.10.0)\n",
      "Requirement already satisfied: setuptools in /Users/robertwexler/miniconda3/envs/comp-prob-solv/lib/python3.12/site-packages (from torch>=1.12->mace-torch) (71.0.4)\n",
      "Requirement already satisfied: mpmath<1.4,>=1.1.0 in /Users/robertwexler/miniconda3/envs/comp-prob-solv/lib/python3.12/site-packages (from sympy->e3nn==0.4.4->mace-torch) (1.3.0)\n",
      "Requirement already satisfied: contourpy>=1.0.1 in /Users/robertwexler/miniconda3/envs/comp-prob-solv/lib/python3.12/site-packages (from matplotlib->mace-torch) (1.2.1)\n",
      "Requirement already satisfied: cycler>=0.10 in /Users/robertwexler/miniconda3/envs/comp-prob-solv/lib/python3.12/site-packages (from matplotlib->mace-torch) (0.12.1)\n",
      "Requirement already satisfied: fonttools>=4.22.0 in /Users/robertwexler/miniconda3/envs/comp-prob-solv/lib/python3.12/site-packages (from matplotlib->mace-torch) (4.53.1)\n",
      "Requirement already satisfied: kiwisolver>=1.3.1 in /Users/robertwexler/miniconda3/envs/comp-prob-solv/lib/python3.12/site-packages (from matplotlib->mace-torch) (1.4.5)\n",
      "Requirement already satisfied: packaging>=20.0 in /Users/robertwexler/miniconda3/envs/comp-prob-solv/lib/python3.12/site-packages (from matplotlib->mace-torch) (24.1)\n",
      "Requirement already satisfied: pillow>=8 in /Users/robertwexler/miniconda3/envs/comp-prob-solv/lib/python3.12/site-packages (from matplotlib->mace-torch) (10.4.0)\n",
      "Requirement already satisfied: pyparsing>=2.3.1 in /Users/robertwexler/miniconda3/envs/comp-prob-solv/lib/python3.12/site-packages (from matplotlib->mace-torch) (3.1.2)\n",
      "Requirement already satisfied: python-dateutil>=2.7 in /Users/robertwexler/miniconda3/envs/comp-prob-solv/lib/python3.12/site-packages (from matplotlib->mace-torch) (2.9.0)\n",
      "Requirement already satisfied: gitdb<5,>=4.0.1 in /Users/robertwexler/miniconda3/envs/comp-prob-solv/lib/python3.12/site-packages (from GitPython->mace-torch) (4.0.11)\n",
      "Requirement already satisfied: pytz>=2020.1 in /Users/robertwexler/miniconda3/envs/comp-prob-solv/lib/python3.12/site-packages (from pandas->mace-torch) (2024.1)\n",
      "Requirement already satisfied: tzdata>=2022.7 in /Users/robertwexler/miniconda3/envs/comp-prob-solv/lib/python3.12/site-packages (from pandas->mace-torch) (2024.1)\n",
      "Requirement already satisfied: wcwidth in /Users/robertwexler/miniconda3/envs/comp-prob-solv/lib/python3.12/site-packages (from prettytable->mace-torch) (0.2.13)\n",
      "Requirement already satisfied: lightning-utilities>=0.8.0 in /Users/robertwexler/miniconda3/envs/comp-prob-solv/lib/python3.12/site-packages (from torchmetrics->mace-torch) (0.11.8)\n",
      "Requirement already satisfied: smmap<6,>=3.0.1 in /Users/robertwexler/miniconda3/envs/comp-prob-solv/lib/python3.12/site-packages (from gitdb<5,>=4.0.1->GitPython->mace-torch) (5.0.1)\n",
      "Requirement already satisfied: six>=1.5 in /Users/robertwexler/miniconda3/envs/comp-prob-solv/lib/python3.12/site-packages (from python-dateutil>=2.7->matplotlib->mace-torch) (1.16.0)\n",
      "Requirement already satisfied: MarkupSafe>=2.0 in /Users/robertwexler/miniconda3/envs/comp-prob-solv/lib/python3.12/site-packages (from jinja2->torch>=1.12->mace-torch) (2.1.5)\n"
     ]
    }
   ],
   "source": [
    "!pip install mace-torch"
   ]
  },
  {
   "cell_type": "markdown",
   "id": "7a312b35-ca6f-48de-adf4-e03160654cd0",
   "metadata": {},
   "source": [
    "Minimize the potential of CO by varying its bond length"
   ]
  },
  {
   "cell_type": "code",
   "execution_count": 16,
   "id": "71d23406-dfa7-4568-958b-6d4449d37439",
   "metadata": {},
   "outputs": [],
   "source": [
    "from mace.calculators import mace_mp"
   ]
  },
  {
   "cell_type": "code",
   "execution_count": 18,
   "id": "851a4108-5c30-48c0-b3a7-0ad126b2f9d2",
   "metadata": {},
   "outputs": [
    {
     "name": "stdout",
     "output_type": "stream",
     "text": [
      "Using Materials Project MACE for MACECalculator with /Users/robertwexler/.cache/mace/5yyxdm76\n",
      "Using float32 for MACECalculator, which is faster but less accurate. Recommended for MD. Use float64 for geometry optimization.\n",
      "Default dtype float32 does not match model dtype float64, converting models to float32.\n"
     ]
    },
    {
     "name": "stderr",
     "output_type": "stream",
     "text": [
      "/Users/robertwexler/miniconda3/envs/comp-prob-solv/lib/python3.12/site-packages/mace/calculators/mace.py:128: FutureWarning: You are using `torch.load` with `weights_only=False` (the current default value), which uses the default pickle module implicitly. It is possible to construct malicious pickle data which will execute arbitrary code during unpickling (See https://github.com/pytorch/pytorch/blob/main/SECURITY.md#untrusted-models for more details). In a future release, the default value for `weights_only` will be flipped to `True`. This limits the functions that could be executed during unpickling. Arbitrary objects will no longer be allowed to be loaded via this mode unless they are explicitly allowlisted by the user via `torch.serialization.add_safe_globals`. We recommend you start setting `weights_only=True` for any use case where you don't have full control of the loaded file. Please open an issue on GitHub for any issues related to this experimental feature.\n",
      "  torch.load(f=model_path, map_location=device)\n"
     ]
    }
   ],
   "source": [
    "macemp = mace_mp()\n",
    "atoms.calc = macemp"
   ]
  },
  {
   "cell_type": "code",
   "execution_count": 20,
   "id": "4d2ddf68-4dc9-43b8-868d-dfde70942fd9",
   "metadata": {},
   "outputs": [],
   "source": [
    "from ase.optimize import BFGS"
   ]
  },
  {
   "cell_type": "code",
   "execution_count": 21,
   "id": "27ffcfdd-8eb6-4438-8754-257dd4cf37c7",
   "metadata": {},
   "outputs": [
    {
     "name": "stdout",
     "output_type": "stream",
     "text": [
      "      Step     Time          Energy          fmax\n",
      "BFGS:    0 11:30:39      -14.174485        5.073719\n",
      "BFGS:    1 11:30:39      -13.794709       13.550327\n",
      "BFGS:    2 11:30:39      -14.318933        1.653340\n",
      "BFGS:    3 11:30:39      -14.331827        0.601021\n",
      "BFGS:    4 11:30:39      -14.333701        0.039062\n"
     ]
    },
    {
     "data": {
      "text/plain": [
       "True"
      ]
     },
     "execution_count": 21,
     "metadata": {},
     "output_type": "execute_result"
    }
   ],
   "source": [
    "opt = BFGS(atoms)\n",
    "opt.run(fmax=0.05)  # 0.05 eV/Å"
   ]
  },
  {
   "cell_type": "code",
   "execution_count": 22,
   "id": "9e4dcbac-4f53-4880-bdd6-c332f68d096b",
   "metadata": {},
   "outputs": [
    {
     "data": {
      "text/plain": [
       "<Popen: returncode: None args: ['/Users/robertwexler/miniconda3/envs/comp-pr...>"
      ]
     },
     "execution_count": 22,
     "metadata": {},
     "output_type": "execute_result"
    }
   ],
   "source": [
    "view(atoms)"
   ]
  },
  {
   "cell_type": "code",
   "execution_count": 23,
   "id": "85a1d2c5-b639-405f-beea-b5442abe46db",
   "metadata": {},
   "outputs": [
    {
     "data": {
      "text/plain": [
       "array([1.14248752])"
      ]
     },
     "execution_count": 23,
     "metadata": {},
     "output_type": "execute_result"
    }
   ],
   "source": [
    "atoms.get_distances(0, 1)"
   ]
  },
  {
   "cell_type": "markdown",
   "id": "b624506b-3c2b-47d1-b8b6-47d050b39c5b",
   "metadata": {},
   "source": [
    "Calculate the atomization energy of CO"
   ]
  },
  {
   "cell_type": "code",
   "execution_count": 24,
   "id": "8dd71c59-9eab-46a9-82a4-637af08eeaa6",
   "metadata": {},
   "outputs": [
    {
     "data": {
      "text/plain": [
       "<Popen: returncode: None args: ['/Users/robertwexler/miniconda3/envs/comp-pr...>"
      ]
     },
     "execution_count": 24,
     "metadata": {},
     "output_type": "execute_result"
    }
   ],
   "source": [
    "C = Atoms(\"C\", positions=[(0, 0, 0)])\n",
    "O = Atoms(\"O\", positions=[(0, 0, 0)])\n",
    "view(C)"
   ]
  },
  {
   "cell_type": "code",
   "execution_count": 25,
   "id": "861d1a2a-9e06-4dd2-a2d7-3399a378666e",
   "metadata": {},
   "outputs": [],
   "source": [
    "C.calc = macemp\n",
    "O.calc = macemp"
   ]
  },
  {
   "cell_type": "code",
   "execution_count": 26,
   "id": "c972ff60-e8ed-48ba-a5fd-a46d0e823bdc",
   "metadata": {},
   "outputs": [
    {
     "data": {
      "text/plain": [
       "Atoms(symbols='C', pbc=False, calculator=MACECalculator(...))"
      ]
     },
     "execution_count": 26,
     "metadata": {},
     "output_type": "execute_result"
    }
   ],
   "source": [
    "C"
   ]
  },
  {
   "cell_type": "code",
   "execution_count": 27,
   "id": "b905b4af-8714-4422-8509-ba234ac20a98",
   "metadata": {},
   "outputs": [
    {
     "name": "stdout",
     "output_type": "stream",
     "text": [
      "-1.69175386428833 -2.0814614295959473 -14.333701133728027\n"
     ]
    }
   ],
   "source": [
    "E_C = C.get_potential_energy()\n",
    "E_O = O.get_potential_energy()\n",
    "E_CO = atoms.get_potential_energy()\n",
    "print(E_C, E_O, E_CO)"
   ]
  },
  {
   "cell_type": "code",
   "execution_count": 28,
   "id": "4d2d9cda-bebf-4730-94ee-b952a9ee60ab",
   "metadata": {},
   "outputs": [
    {
     "name": "stdout",
     "output_type": "stream",
     "text": [
      "10.56048583984375\n"
     ]
    }
   ],
   "source": [
    "E_atom = E_C + E_O - E_CO\n",
    "print(E_atom)"
   ]
  },
  {
   "cell_type": "markdown",
   "id": "6e3917c7-66d3-4ae1-a778-280a79d0b449",
   "metadata": {},
   "source": [
    "CO Adsorption at Pt(100)"
   ]
  },
  {
   "cell_type": "code",
   "execution_count": 29,
   "id": "0b796ae7-f3a4-46fc-8b7e-b8c6c1df0163",
   "metadata": {},
   "outputs": [],
   "source": [
    "from ase.build import fcc100"
   ]
  },
  {
   "cell_type": "code",
   "execution_count": 34,
   "id": "ee0b4e74-c568-41ff-bff3-042fbace6483",
   "metadata": {},
   "outputs": [],
   "source": [
    "slab = fcc100(\"Pt\", size=(2, 2, 3), vacuum=10)"
   ]
  },
  {
   "cell_type": "code",
   "execution_count": 35,
   "id": "729c4f3e-a1b3-4b0e-881a-1ac6d42597d9",
   "metadata": {},
   "outputs": [
    {
     "data": {
      "text/plain": [
       "<Popen: returncode: None args: ['/Users/robertwexler/miniconda3/envs/comp-pr...>"
      ]
     },
     "execution_count": 35,
     "metadata": {},
     "output_type": "execute_result"
    }
   ],
   "source": [
    "view(slab)"
   ]
  },
  {
   "cell_type": "code",
   "execution_count": 37,
   "id": "0737f73d-f53f-4e0f-b913-350dd33ec34e",
   "metadata": {},
   "outputs": [],
   "source": [
    "from ase.build import molecule\n",
    "from ase.build.surface import add_adsorbate"
   ]
  },
  {
   "cell_type": "code",
   "execution_count": 38,
   "id": "0bb2a4e5-d6d1-4553-bc42-5ede3a100648",
   "metadata": {},
   "outputs": [],
   "source": [
    "co_molecule = molecule(\"CO\")"
   ]
  },
  {
   "cell_type": "code",
   "execution_count": 42,
   "id": "4aea5d09-4b59-47e4-a226-9a685bd1a701",
   "metadata": {},
   "outputs": [],
   "source": [
    "no2_molecule = molecule(\"NO2\")\n",
    "benzene = molecule(\"C6H6\")"
   ]
  },
  {
   "cell_type": "code",
   "execution_count": 44,
   "id": "45a8ec5b-afa4-4e50-9223-b472e7d74f05",
   "metadata": {},
   "outputs": [],
   "source": [
    "add_adsorbate(slab, co_molecule, height=3, position=(3,3))"
   ]
  },
  {
   "cell_type": "code",
   "execution_count": 45,
   "id": "8b213630-58d3-4823-bb3d-95823960e1fe",
   "metadata": {},
   "outputs": [
    {
     "data": {
      "text/plain": [
       "<Popen: returncode: None args: ['/Users/robertwexler/miniconda3/envs/comp-pr...>"
      ]
     },
     "execution_count": 45,
     "metadata": {},
     "output_type": "execute_result"
    }
   ],
   "source": [
    "view(slab)"
   ]
  },
  {
   "cell_type": "markdown",
   "id": "e3431d87-7bd7-4d63-9834-170d991646cd",
   "metadata": {},
   "source": [
    "Optimize CO on Pt(100)"
   ]
  },
  {
   "cell_type": "code",
   "execution_count": 46,
   "id": "ec64ea1b-5903-4c2b-9cf6-b63211d02371",
   "metadata": {},
   "outputs": [],
   "source": [
    "slab.calc = macemp"
   ]
  },
  {
   "cell_type": "code",
   "execution_count": 48,
   "id": "ccb88d63-40d6-41ef-b4ea-77f1267046d5",
   "metadata": {},
   "outputs": [
    {
     "name": "stdout",
     "output_type": "stream",
     "text": [
      "      Step     Time          Energy          fmax\n",
      "BFGS:    0 11:48:22      -82.134514        1.360808\n",
      "BFGS:    1 11:48:22      -82.153412        2.578211\n",
      "BFGS:    2 11:48:22      -82.215103        1.092002\n",
      "BFGS:    3 11:48:22      -82.271393        1.060110\n",
      "BFGS:    4 11:48:22      -82.299423        1.103999\n",
      "BFGS:    5 11:48:22      -82.324242        0.546394\n",
      "BFGS:    6 11:48:22      -82.331818        0.225446\n",
      "BFGS:    7 11:48:22      -82.339172        0.325531\n",
      "BFGS:    8 11:48:23      -82.349442        0.515899\n",
      "BFGS:    9 11:48:23      -82.362610        0.601839\n",
      "BFGS:   10 11:48:23      -82.376656        0.503759\n",
      "BFGS:   11 11:48:23      -82.389374        0.223450\n",
      "BFGS:   12 11:48:23      -82.396408        0.200659\n",
      "BFGS:   13 11:48:23      -82.399780        0.252397\n",
      "BFGS:   14 11:48:23      -82.402748        0.189138\n",
      "BFGS:   15 11:48:23      -82.403931        0.091559\n",
      "BFGS:   16 11:48:23      -82.404449        0.058401\n",
      "BFGS:   17 11:48:23      -82.404846        0.066468\n",
      "BFGS:   18 11:48:24      -82.405312        0.079716\n",
      "BFGS:   19 11:48:24      -82.405678        0.053936\n",
      "BFGS:   20 11:48:24      -82.405823        0.018708\n"
     ]
    },
    {
     "data": {
      "text/plain": [
       "True"
      ]
     },
     "execution_count": 48,
     "metadata": {},
     "output_type": "execute_result"
    }
   ],
   "source": [
    "opt_slab = BFGS(slab)\n",
    "opt_slab.run(fmax=0.05)"
   ]
  },
  {
   "cell_type": "code",
   "execution_count": 49,
   "id": "61d677ba-3edb-40d6-91b8-423fad4da6ed",
   "metadata": {},
   "outputs": [
    {
     "data": {
      "text/plain": [
       "<Popen: returncode: None args: ['/Users/robertwexler/miniconda3/envs/comp-pr...>"
      ]
     },
     "execution_count": 49,
     "metadata": {},
     "output_type": "execute_result"
    }
   ],
   "source": [
    "view(slab)"
   ]
  },
  {
   "cell_type": "code",
   "execution_count": 52,
   "id": "6b2acf67-e500-4ac2-9594-db3ab10d220b",
   "metadata": {},
   "outputs": [
    {
     "name": "stdout",
     "output_type": "stream",
     "text": [
      "      Step     Time          Energy          fmax\n",
      "BFGS:    0 11:52:08      -66.033951        0.424760\n",
      "BFGS:    1 11:52:08      -66.053253        0.370682\n",
      "BFGS:    2 11:52:08      -66.119148        0.035250\n",
      "-1.9529733657836914\n"
     ]
    }
   ],
   "source": [
    "E_slab_CO = slab.get_potential_energy()\n",
    "\n",
    "slab_clean = fcc100(\"Pt\", size=(2, 2, 3), vacuum=10)\n",
    "slab_clean.calc = macemp\n",
    "opt_clean = BFGS(slab_clean)\n",
    "opt_clean.run(fmax=0.05)\n",
    "E_slab = slab_clean.get_potential_energy()\n",
    "\n",
    "E_CO = atoms.get_potential_energy()\n",
    "\n",
    "E_ads = E_slab_CO - E_slab - E_CO\n",
    "print(E_ads)"
   ]
  },
  {
   "cell_type": "code",
   "execution_count": null,
   "id": "7217329a-ee7b-4967-952a-111a59dd0c01",
   "metadata": {},
   "outputs": [],
   "source": []
  }
 ],
 "metadata": {
  "kernelspec": {
   "display_name": "Python 3 (ipykernel)",
   "language": "python",
   "name": "python3"
  },
  "language_info": {
   "codemirror_mode": {
    "name": "ipython",
    "version": 3
   },
   "file_extension": ".py",
   "mimetype": "text/x-python",
   "name": "python",
   "nbconvert_exporter": "python",
   "pygments_lexer": "ipython3",
   "version": "3.12.4"
  }
 },
 "nbformat": 4,
 "nbformat_minor": 5
}
