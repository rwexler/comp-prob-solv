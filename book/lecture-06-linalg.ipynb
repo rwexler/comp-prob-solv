{
 "cells": [
  {
   "cell_type": "markdown",
   "metadata": {},
   "source": [
    "## Lecture 6: Balancing Chemical Equations and Systems of Linear Algebraic Equations\n",
    "\n",
    "### Balancing Chemical Equations\n",
    "\n",
    "One of the first things we're trained to do in the chemical sciences is to balance the stoichiometric coefficients of the reactants and products in a chemical equation so that no mass is lost. For example, consider the combustion of an methane in the presence of oxygen.\n",
    "\n",
    "$$\n",
    "\\begin{align*}\n",
    "a \\text{CH}_4(g) + b \\text{O}_2(g) &\\rightarrow c \\text{CO}_2(g) + d \\text{H}_2\\text{O}(g) \\\\\n",
    "\\end{align*}\n",
    "$$\n",
    "\n",
    "The game that we are taught to play is to determine the values of $a$, $b$, $c$, and $d$ that make the number of atoms of each element the same on both sides of the equation. To do this, we can make a table where the two columns are for reactants (left) and products (right) and each row is for a different element. For the combustion of methane, the table looks like this:\n",
    "\n",
    "| Element | Reactants | Products |\n",
    "|---------|-----------|----------|\n",
    "| C       | $a$       | $c$      |\n",
    "| H       | $4a$      | $2d$     |\n",
    "| O       | $2b$      | $2c + d$ |\n",
    "\n",
    "From the table, we can clearly see that $a$ has to be equal to $c$ in order for the reaction to be balanced. So, we can write the table as:\n",
    "\n",
    "| Element | Reactants | Products |\n",
    "|---------|-----------|----------|\n",
    "| C       | $a$       | $a$      |\n",
    "| H       | $4a$      | $2d$     |\n",
    "| O       | $2b$      | $2a + d$ |\n",
    "\n",
    "OK, the next step is to notice that $4a = 2d$ so $d = 2a$. We can substitute this into the last row of the table to get:\n",
    "\n",
    "| Element | Reactants | Products |\n",
    "|---------|-----------|----------|\n",
    "| C       | $a$       | $a$      |\n",
    "| H       | $4a$      | $4a$     |\n",
    "| O       | $2b$      | $2a + 2a$ |\n",
    "\n",
    "Finally, we can see that $2b = 4a$ so $b = 2a$. Substituting this into the last row of the table gives:\n",
    "\n",
    "| Element | Reactants | Products |\n",
    "|---------|-----------|----------|\n",
    "| C       | $a$       | $a$      |\n",
    "| H       | $4a$      | $4a$     |\n",
    "| O       | $4a$      | $4a$     |\n",
    "\n",
    "So, the balanced equation is:\n",
    "\n",
    "$$\n",
    "\\begin{align*}\n",
    "\\text{CH}_4(g) + 2\\text{O}_2(g) &\\rightarrow \\text{CO}_2(g) + 2\\text{H}_2\\text{O}(g) \\\\\n",
    "\\end{align*}\n",
    "$$\n",
    "\n",
    "Maybe that was unnecessarily difficult, as I'm sure many of you were able to see precisely what those values were before we started. But, the point is that we can solve linear equations to balance chemical equations.\n",
    "\n",
    "### Systems of Linear Algebraic Equations\n",
    "\n",
    "Going back even further, you may remember that if we have a system of linear algegraic equations and the same number of equations as unknowns, we can solve for the unknowns. Let's recast our combustion problem in terms of a system of linear algebraic equations. We have:\n",
    "\n",
    "$$\n",
    "\\begin{align*}\n",
    "a - c &= 0 \\\\\n",
    "4a - 2d &= 0 \\\\\n",
    "2b - 2c - d &= 0 \\\\\n",
    "\\end{align*}\n",
    "$$\n",
    "\n",
    "This can be written in matrix form as:\n",
    "\n",
    "$$\n",
    "\\begin{align*}\n",
    "\\begin{bmatrix}\n",
    "1 & 0 & -1 & 0 \\\\\n",
    "4 & 0 & 0 & -2 \\\\\n",
    "0 & 2 & -2 & -1 \\\\\n",
    "\\end{bmatrix}\n",
    "\\begin{bmatrix}\n",
    "a \\\\\n",
    "b \\\\\n",
    "c \\\\\n",
    "d \\\\\n",
    "\\end{bmatrix}\n",
    "&=\n",
    "\\begin{bmatrix}\n",
    "0 \\\\\n",
    "0 \\\\\n",
    "0 \\\\\n",
    "\\end{bmatrix}\n",
    "\\end{align*}\n",
    "$$\n",
    "\n",
    "Or, more simply as:\n",
    "\n",
    "$$\n",
    "\\begin{align*}\n",
    "\\mathbf{A}\\mathbf{x} &= \\mathbf{0}\n",
    "\\end{align*}\n",
    "$$\n",
    "\n",
    "Where $\\mathbf{A}$ is the matrix of coefficients, $\\mathbf{x}$ is the vector of unknowns, and $\\mathbf{0}$ is the zero vector. We can solve this system of equations by finding the null space of $\\mathbf{A}$. The null space is the set of all vectors that send $\\mathbf{A}$ to $\\mathbf{0}$. In other words, it is the set of all vectors that satisfy the system of equations.\n",
    "\n",
    "### Solving the System of Equations\n",
    "\n",
    "Let's solve the system of equations for the combustion of methane using Python. We'll use the `numpy` library to do this.\n",
    "\n",
    "First, we need to import the `numpy` library."
   ]
  },
  {
   "cell_type": "code",
   "execution_count": 22,
   "metadata": {},
   "outputs": [],
   "source": [
    "import numpy as np"
   ]
  },
  {
   "cell_type": "markdown",
   "metadata": {},
   "source": [
    "Next, we'll define the matrix of coefficients, $\\mathbf{A}$."
   ]
  },
  {
   "cell_type": "code",
   "execution_count": 23,
   "metadata": {},
   "outputs": [],
   "source": [
    "A = np.array([[1, 0, -1, 0],\n",
    "              [4, 0, 0, -2],\n",
    "              [0, 2, -2, -1]])"
   ]
  },
  {
   "cell_type": "markdown",
   "metadata": {},
   "source": [
    "Now, we can find the null space of $\\mathbf{A}$."
   ]
  },
  {
   "cell_type": "code",
   "execution_count": 26,
   "metadata": {},
   "outputs": [],
   "source": [
    "from scipy.linalg import null_space\n",
    "\n",
    "# Calculate the null space of matrix A\n",
    "null_space = null_space(A)"
   ]
  },
  {
   "cell_type": "markdown",
   "metadata": {},
   "source": [
    "Finally, we can print the solution."
   ]
  },
  {
   "cell_type": "code",
   "execution_count": 27,
   "metadata": {},
   "outputs": [
    {
     "data": {
      "text/plain": [
       "array([1, 2, 1, 2])"
      ]
     },
     "execution_count": 27,
     "metadata": {},
     "output_type": "execute_result"
    }
   ],
   "source": [
    "# Convert the null space solution to integer coefficients by multiplying\n",
    "# and normalizing to the smallest integers\n",
    "coefficients = null_space[:, 0]\n",
    "coefficients = coefficients / np.min(coefficients[coefficients > 0])\n",
    "coefficients = np.round(coefficients).astype(int)\n",
    "\n",
    "coefficients"
   ]
  },
  {
   "cell_type": "markdown",
   "metadata": {},
   "source": [
    "This is the same solution we found earlier. The balanced equation is:\n",
    "\n",
    "$$\n",
    "\\begin{align*}\n",
    "\\text{CH}_4(g) + 2\\text{O}_2(g) &\\rightarrow \\text{CO}_2(g) + 2\\text{H}_2\\text{O}(g) \\\\\n",
    "\\end{align*}\n",
    "$$\n",
    "\n",
    "```{admonition} Note\n",
    ":class: tip\n",
    "There's actually a general equation for the stoichiometric coefficients for the combustion of alkanes. For the combustion of an alkane with $n$ carbons, the balanced equation is:\n",
    "\n",
    "$$\n",
    "\\begin{align*}\n",
    "\\text{C}_n\\text{H}_{2n+2}(g) + (3n+1)\\text{O}_2(g) &\\rightarrow n\\text{CO}_2(g) + (n+1)\\text{H}_2\\text{O}(g) \\\\\n",
    "\\end{align*}\n",
    "$$\n",
    "\n",
    "There's also a general function for any hydrocarbon, saturated or unsaturated. It is:\n",
    "\n",
    "$$\n",
    "\\begin{align*}\n",
    "\\text{C}_x\\text{H}_y + \\left(x + \\frac{y}{4}\\right)\\text{O}_2 &\\rightarrow x\\text{CO}_2 + \\frac{y}{2}\\text{H}_2\\text{O} \\\\\n",
    "\\end{align*}\n",
    "$$\n",
    "```\n",
    "\n",
    "### Example: Reduction of Tin(IV) Oxide by Hydrogen\n",
    "\n",
    "Let's consider the reduction of tin(IV) oxide by hydrogen to form tin and water.\n",
    "\n",
    "$$\n",
    "\\begin{align*}\n",
    "\\text{SnO}_2(s) + \\text{H}_2(g) &\\rightarrow \\text{Sn}(s) + \\text{H}_2\\text{O}(g) \\\\\n",
    "\\end{align*}\n",
    "$$\n",
    "\n",
    "```{admonition} Wait a Minute!\n",
    ":class: warning\n",
    "Can you try to do this by hand before you do it in Python?\n",
    "```"
   ]
  },
  {
   "cell_type": "code",
   "execution_count": null,
   "metadata": {},
   "outputs": [],
   "source": []
  },
  {
   "cell_type": "markdown",
   "metadata": {},
   "source": []
  }
 ],
 "metadata": {
  "kernelspec": {
   "display_name": "comp-prob-solv",
   "language": "python",
   "name": "python3"
  },
  "language_info": {
   "codemirror_mode": {
    "name": "ipython",
    "version": 3
   },
   "file_extension": ".py",
   "mimetype": "text/x-python",
   "name": "python",
   "nbconvert_exporter": "python",
   "pygments_lexer": "ipython3",
   "version": "3.12.4"
  }
 },
 "nbformat": 4,
 "nbformat_minor": 2
}
