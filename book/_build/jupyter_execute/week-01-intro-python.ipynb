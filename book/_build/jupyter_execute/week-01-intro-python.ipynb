{
 "cells": [
  {
   "cell_type": "markdown",
   "metadata": {},
   "source": [
    "# Module 1: Introduction to Python Computations\n",
    "\n",
    "## 1.1: Introduction to Python\n",
    "\n",
    "Python is a high-level, interpreted, and general-purpose programming language. It was created by Guido van Rossum and released in 1991. Python is known for its simplicity and readability. It is widely used in various fields such as web development, data science, machine learning, artificial intelligence, and scientific computing.\n",
    "\n",
    "Python has a large standard library that provides a wide range of modules and packages for different tasks. It also has a vibrant community that contributes to the development of libraries and frameworks, making Python a popular choice for many programmers.\n",
    "\n",
    "In this module, we will introduce you to Python and its basic syntax. We will cover the following topics:\n",
    "\n",
    "- Python installation and setup\n",
    "- Python data types\n",
    "- Variables and operators\n",
    "- Control flow statements\n",
    "- Functions and modules\n",
    "- Input and output operations\n",
    "\n",
    "Let's get started!\n",
    "\n",
    "## 1.2: Python Installation and Setup\n",
    "\n",
    "Before you start writing Python code, you need to install Python on your system. Python is available for different operating systems such as Windows, macOS, and Linux. You can download the latest version of Python from the official website (https://www.python.org/downloads/).\n",
    "\n",
    "Once you have installed Python on your system, you can start writing Python code using an Integrated Development Environment (IDE) or a code editor. Some popular IDEs for Python development are:\n",
    "\n",
    "- PyCharm\n",
    "- Visual Studio Code\n",
    "- Jupyter Notebook\n",
    "- Spyder\n",
    "- IDLE (Python's Integrated Development and Learning Environment)\n",
    "\n",
    "You can choose any of these IDEs based on your preference and start writing Python code.\n",
    "\n",
    "```{note}\n",
    "In this course, we will be using Visual Studio Code as the primary IDE for Python development. You can download Visual Studio Code from the official website (https://code.visualstudio.com/).\n",
    "```\n",
    "\n",
    "## 1.3: Python Data Types\n",
    "\n",
    "Python has several built-in data types that are used to store and manipulate data. Some of the common data types in Python are:\n",
    "\n",
    "- Integer (`int`): Represents whole numbers without any decimal point.\n",
    "- Float (`float`): Represents real numbers with a decimal point.\n",
    "- String (`str`): Represents a sequence of characters enclosed in single or double quotes.\n",
    "- Boolean (`bool`): Represents a boolean value (`True` or `False`).\n",
    "\n",
    "Let's look at some examples of these data types in Python:"
   ]
  },
  {
   "cell_type": "code",
   "execution_count": 1,
   "metadata": {},
   "outputs": [
    {
     "name": "stdout",
     "output_type": "stream",
     "text": [
      "10\n",
      "3.14\n",
      "John Doe\n",
      "True\n"
     ]
    }
   ],
   "source": [
    "# Integer\n",
    "x = 10\n",
    "print(x)\n",
    "\n",
    "# Float\n",
    "y = 3.14\n",
    "print(y)\n",
    "\n",
    "# String\n",
    "name = \"John Doe\"\n",
    "print(name)\n",
    "\n",
    "# Boolean\n",
    "is_student = True\n",
    "print(is_student)"
   ]
  },
  {
   "cell_type": "markdown",
   "metadata": {},
   "source": [
    "In Python, you can use the `type()` function to check the data type of a variable. For example:"
   ]
  },
  {
   "cell_type": "code",
   "execution_count": 2,
   "metadata": {},
   "outputs": [
    {
     "name": "stdout",
     "output_type": "stream",
     "text": [
      "<class 'int'>\n",
      "<class 'float'>\n",
      "<class 'str'>\n",
      "<class 'bool'>\n"
     ]
    }
   ],
   "source": [
    "x = 10\n",
    "print(type(x))  # Output: <class 'int'>\n",
    "\n",
    "y = 3.14\n",
    "print(type(y))  # Output: <class 'float'>\n",
    "\n",
    "z = \"Hello, World!\"\n",
    "print(type(z))  # Output: <class 'str'>\n",
    "\n",
    "w = True\n",
    "print(type(w))  # Output: <class 'bool'>"
   ]
  },
  {
   "cell_type": "markdown",
   "metadata": {},
   "source": [
    "## 1.4: Variables and Operators\n",
    "\n",
    "In Python, variables are used to store data values. You can assign a value to a variable using the assignment operator (`=`). Variables can store different types of data such as integers, floats, strings, and booleans.\n",
    "\n",
    "Python supports various operators that are used to perform arithmetic, comparison, logical, and assignment operations. Some of the common operators in Python are:\n",
    "\n",
    "- Arithmetic operators: `+`, `-`, `*`, `/`, `%`, `//`, `**`\n",
    "- Comparison operators: `==`, `!=`, `>`, `<`, `>=`, `<=`\n",
    "- Logical operators: `and`, `or`, `not`\n",
    "- Assignment operators: `=`, `+=`, `-=`, `*=`, `/=`, `%=`\n",
    "\n",
    "Let's look at some examples of variables and operators in Python:"
   ]
  },
  {
   "cell_type": "code",
   "execution_count": 3,
   "metadata": {},
   "outputs": [],
   "source": [
    "# Assigning values to variables\n",
    "x = 10\n",
    "y = 3.14\n",
    "name = \"Alice\"\n",
    "is_student = True\n",
    "\n",
    "# Arithmetic operators\n",
    "summation = x + y\n",
    "difference = x - y\n",
    "product = x * y\n",
    "quotient = x / y\n",
    "remainder = x % y\n",
    "floor_division = x // y\n",
    "power = x ** 2\n",
    "\n",
    "# Comparison operators\n",
    "is_equal = x == y\n",
    "is_not_equal = x != y\n",
    "is_greater = x > y\n",
    "is_less = x < y\n",
    "is_greater_equal = x >= y\n",
    "is_less_equal = x <= y\n",
    "\n",
    "# Logical operators\n",
    "and_result = (x > 0) and (y < 0)\n",
    "or_result = (x > 0) or (y < 0)\n",
    "not_result = not (x > 0)\n",
    "\n",
    "# Assignment operators\n",
    "x += 1\n",
    "y -= 1"
   ]
  },
  {
   "cell_type": "markdown",
   "metadata": {},
   "source": [
    "## 1.5: Control Flow Statements\n",
    "\n",
    "Control flow statements are used to control the flow of execution in a program. Python supports various control flow statements such as:\n",
    "\n",
    "- Conditional statements (`if`, `elif`, `else`): Used to execute different blocks of code based on certain conditions.\n",
    "- Loop statements (`for`, `while`): Used to iterate over a sequence of elements or execute a block of code repeatedly.\n",
    "- Break and continue statements: Used to alter the flow of execution in loops.\n",
    "- Pass statement: Used as a placeholder when no action is required.\n",
    "\n",
    "Let's look at some examples of control flow statements in Python:"
   ]
  },
  {
   "cell_type": "code",
   "execution_count": 4,
   "metadata": {},
   "outputs": [
    {
     "name": "stdout",
     "output_type": "stream",
     "text": [
      "Conditional statements\n",
      "Positive number\n",
      "\n",
      "Loop statements\n",
      "0\n",
      "1\n",
      "2\n",
      "3\n",
      "4\n",
      "\n",
      "Break statements\n",
      "0\n",
      "1\n",
      "2\n",
      "\n",
      "Continue statements\n",
      "0\n",
      "1\n",
      "2\n",
      "4\n",
      "\n",
      "Pass statement\n"
     ]
    }
   ],
   "source": [
    "# Conditional statements\n",
    "print(\"Conditional statements\")\n",
    "x = 10\n",
    "if x > 0:\n",
    "    print(\"Positive number\")\n",
    "elif x < 0:\n",
    "    print(\"Negative number\")\n",
    "else:\n",
    "    print(\"Zero\")\n",
    "print()\n",
    "\n",
    "# Loop statements\n",
    "print(\"Loop statements\")\n",
    "for i in range(5):\n",
    "    print(i)\n",
    "print()\n",
    "\n",
    "# Break and continue statements\n",
    "print(\"Break statements\")\n",
    "for i in range(5):\n",
    "    if i == 3:\n",
    "        break\n",
    "    print(i)\n",
    "print()\n",
    "\n",
    "print(\"Continue statements\")\n",
    "for i in range(5):\n",
    "    if i == 3:\n",
    "        continue\n",
    "    print(i)\n",
    "print()\n",
    "\n",
    "# Pass statement\n",
    "print(\"Pass statement\")\n",
    "for i in range(5):\n",
    "    pass"
   ]
  },
  {
   "cell_type": "markdown",
   "metadata": {},
   "source": [
    "## 1.6: Functions and Modules"
   ]
  },
  {
   "cell_type": "markdown",
   "metadata": {},
   "source": []
  }
 ],
 "metadata": {
  "kernelspec": {
   "display_name": "comp-prob-solv",
   "language": "python",
   "name": "python3"
  },
  "language_info": {
   "codemirror_mode": {
    "name": "ipython",
    "version": 3
   },
   "file_extension": ".py",
   "mimetype": "text/x-python",
   "name": "python",
   "nbconvert_exporter": "python",
   "pygments_lexer": "ipython3",
   "version": "3.10.14"
  }
 },
 "nbformat": 4,
 "nbformat_minor": 2
}