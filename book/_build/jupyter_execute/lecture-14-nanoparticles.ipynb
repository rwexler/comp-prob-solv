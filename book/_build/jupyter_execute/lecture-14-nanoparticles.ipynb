{
 "cells": [
  {
   "cell_type": "markdown",
   "id": "1b53bca7",
   "metadata": {},
   "source": [
    "# Lecture 15: Nanoparticle Shape and Simulated Annealing\n",
    "\n",
    "## Learning Objectives\n",
    "\n",
    "By the end of this lecture, you should be able to\n",
    "\n",
    "1. Describe the role of shape in nanoparticle properties.\n",
    "2. Explain how simulated annealing can be used to find the optimal shape of a nanoparticle.\n",
    "\n",
    "## Nanoparticle Shape\n",
    "\n",
    "The shape of a nanoparticle can have a significant impact on its properties. For example, the shape of a nanoparticle can affect its:\n",
    "\n",
    "- Optical properties, by subjecting the nanoparticle to nanoscale boundary conditions.\n",
    "- Mechanical properties, by truncating long-range interactions.\n",
    "- Chemical properties, by changing the number and configuration of surface atoms.\n",
    "\n",
    "## Local *vs.* Global Geometry Optimization\n",
    "\n",
    "The shape of a nanoparticle can be optimized using a variety of methods. One common approach is to use a local optimization algorithm, such as those implemented in `scipy.optimize`. However, local optimization algorithms can get stuck in local minima, especially when the objective function is non-convex.\n",
    "\n",
    "![Local optimization](local_minimum.png)"
   ]
  }
 ],
 "metadata": {
  "jupytext": {
   "text_representation": {
    "extension": ".md",
    "format_name": "myst",
    "format_version": 0.13,
    "jupytext_version": "1.16.4"
   }
  },
  "kernelspec": {
   "display_name": "comp-prob-solv",
   "language": "python",
   "name": "python3"
  },
  "language_info": {
   "codemirror_mode": {
    "name": "ipython",
    "version": 3
   },
   "file_extension": ".py",
   "mimetype": "text/x-python",
   "name": "python",
   "nbconvert_exporter": "python",
   "pygments_lexer": "ipython3",
   "version": "3.12.4"
  },
  "source_map": [
   12
  ]
 },
 "nbformat": 4,
 "nbformat_minor": 5
}