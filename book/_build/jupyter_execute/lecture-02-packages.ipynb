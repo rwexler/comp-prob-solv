{
 "cells": [
  {
   "cell_type": "markdown",
   "id": "b04d7b34",
   "metadata": {},
   "source": [
    "# Lecture 2: Essential Python Packages for the Chemical Sciences\n",
    "\n",
    "One of the key strengths of Python is its extensive ecosystem of packages that cater to various scientific needs, including those in the chemical sciences. These packages extend Python’s capabilities, allowing you to perform complex calculations, analyze data, and visualize results with ease. While there are many packages available, in this lecture, we will focus on some of the most fundamental ones that you’ll be using frequently throughout this course:\n",
    "\n",
    "- **NumPy:** The foundation for numerical computing in Python. NumPy provides support for large, multi-dimensional arrays and matrices, along with a collection of mathematical functions to operate on these arrays efficiently.\n",
    "  \n",
    "- **SciPy:** Built on top of NumPy, SciPy is a library used for scientific and technical computing. It includes modules for optimization, integration, interpolation, eigenvalue problems, and other advanced mathematical tasks.\n",
    "\n",
    "- **Matplotlib:** A powerful plotting library that enables you to create a wide variety of static, animated, and interactive visualizations. Matplotlib is particularly useful for generating publication-quality figures in both 2D and 3D.\n",
    "\n",
    "- **Pandas:** A versatile library for data manipulation and analysis. Pandas provides data structures like DataFrames, which allow you to work with structured data easily, making tasks such as data cleaning, transformation, and aggregation straightforward.\n",
    "\n",
    "In this lecture, we will explore the core features of each of these packages, with practical examples to help you understand how they can be applied to solve problems in the chemical sciences.\n",
    "\n",
    "## Learning Objectives\n",
    "\n",
    "By the end of this lecture, you should be able to:\n",
    "\n",
    "- Understand the core features and applications of NumPy, SciPy, Matplotlib, and Pandas.\n",
    "- Perform basic numerical operations and matrix manipulations using NumPy.\n",
    "- Create and customize plots using Matplotlib.\n",
    "- Manipulate and analyze data using Pandas DataFrames.\n",
    "\n",
    "---\n",
    "\n",
    "## Section 1: NumPy - The Foundation of Scientific Computing in Python\n",
    "\n",
    "NumPy is the cornerstone of scientific computing in Python, providing essential support for large, multi-dimensional arrays and matrices. It also offers a suite of mathematical functions to operate on these arrays, making it indispensable for numerical tasks in the chemical sciences and beyond. Many other scientific libraries, including SciPy, Matplotlib, and Pandas, are built on top of NumPy.\n",
    "\n",
    "### 1.1 Key Features of NumPy\n",
    "\n",
    "- **N-dimensional Array Object:** NumPy’s array object (`ndarray`) is a versatile container for data. It can represent vectors, matrices, and higher-dimensional data structures, enabling efficient storage and manipulation of numerical data.\n",
    "- **Broadcasting:** Perform element-wise operations on arrays of different shapes in a flexible and efficient manner.\n",
    "- **Linear Algebra, Fourier Transform, and Random Number Generation:** NumPy includes a comprehensive suite of functions for these operations, which are critical in many scientific applications.\n",
    "\n",
    "### 1.2 Working with NumPy Arrays\n",
    "\n",
    "NumPy arrays are the core data structure in NumPy. They are similar to Python lists but are more powerful and efficient, particularly for numerical computations. In the chemical sciences, vectors and matrices are ubiquitous, representing quantities such as atomic positions, molecular orientations, and magnetic field components.\n",
    "\n",
    "#### Creating and Using Arrays\n",
    "\n",
    "Vectors, which play a vital role in representing physical quantities in chemistry, can be created easily with NumPy:"
   ]
  },
  {
   "cell_type": "code",
   "execution_count": 1,
   "id": "43ac6bc7",
   "metadata": {},
   "outputs": [
    {
     "name": "stdout",
     "output_type": "stream",
     "text": [
      "[1 2 3]\n"
     ]
    }
   ],
   "source": [
    "import numpy as np\n",
    "\n",
    "# Create a 3D vector\n",
    "v = np.array([1, 2, 3])\n",
    "\n",
    "print(v)"
   ]
  },
  {
   "cell_type": "markdown",
   "id": "0bff3ac1",
   "metadata": {},
   "source": [
    "Matrices are equally important, used to represent systems of equations, Hamiltonians in quantum chemistry, and more. Here’s how you can create a 2x2 matrix:"
   ]
  },
  {
   "cell_type": "code",
   "execution_count": 2,
   "id": "4a91fd0a",
   "metadata": {},
   "outputs": [
    {
     "name": "stdout",
     "output_type": "stream",
     "text": [
      "[[1 2]\n",
      " [3 4]]\n"
     ]
    }
   ],
   "source": [
    "# Create a 2x2 matrix\n",
    "M = np.array([[1, 2], [3, 4]])\n",
    "\n",
    "print(M)"
   ]
  },
  {
   "cell_type": "markdown",
   "id": "d11877fd",
   "metadata": {},
   "source": [
    "#### Matrix and Vector Operations\n",
    "\n",
    "Matrix and vector operations are fundamental in quantum chemistry and many other areas of chemical science. NumPy simplifies these operations:\n",
    "\n",
    "- **Matrix-Vector Multiplication:** This operation is common in quantum mechanics, where matrices represent operators and vectors represent states.\n",
    "\n",
    "````{margin}\n",
    "```{admonition} Best Practice\n",
    ":class: tip\n",
    "Always comment your code to explain the purpose of each section, especially in complex scripts. This makes your code easier to understand and maintain.\n",
    "```\n",
    "````"
   ]
  },
  {
   "cell_type": "code",
   "execution_count": 3,
   "id": "2048113c",
   "metadata": {},
   "outputs": [
    {
     "name": "stdout",
     "output_type": "stream",
     "text": [
      "[ 5 11]\n"
     ]
    }
   ],
   "source": [
    "# Create a 2x2 matrix\n",
    "M = np.array([[1, 2], [3, 4]])\n",
    "\n",
    "# Create a 2D vector\n",
    "v = np.array([1, 2])\n",
    "\n",
    "# Multiply the matrix by the vector\n",
    "w = M @ v\n",
    "\n",
    "print(w)"
   ]
  },
  {
   "cell_type": "markdown",
   "id": "10824ce0",
   "metadata": {},
   "source": [
    "```{admonition} Reminder\n",
    ":class: tip\n",
    "For matrix multiplication, the shape of the resulting array is determined by the shapes of the input arrays. For example, if `A` has shape `(m, n)` and `B` has shape `(n, p)`, then `C = A @ B` will have shape `(m, p)`.\n",
    "```\n",
    "\n",
    "- **Dot Product:** The dot product is widely used in quantum chemistry, for example, in verifying the orthonormality of wavefunctions."
   ]
  },
  {
   "cell_type": "code",
   "execution_count": 4,
   "id": "0b86ea2c",
   "metadata": {},
   "outputs": [
    {
     "name": "stdout",
     "output_type": "stream",
     "text": [
      "32\n"
     ]
    }
   ],
   "source": [
    "# Create two 3D vectors\n",
    "v = np.array([1, 2, 3])\n",
    "w = np.array([4, 5, 6])\n",
    "\n",
    "# Compute the dot product\n",
    "dot_product = np.dot(v, w)\n",
    "\n",
    "print(dot_product)"
   ]
  },
  {
   "cell_type": "markdown",
   "id": "79795b68",
   "metadata": {},
   "source": [
    "#### Advanced Matrix Operations\n",
    "\n",
    "In quantum chemistry and other fields, solving linear systems, computing determinants, inverses, and eigenvalues are routine tasks. NumPy makes these operations straightforward:\n",
    "\n",
    "- **Determinant, Inverse, and Eigenvalues:**"
   ]
  },
  {
   "cell_type": "code",
   "execution_count": 5,
   "id": "5bff0b8b",
   "metadata": {},
   "outputs": [
    {
     "name": "stdout",
     "output_type": "stream",
     "text": [
      "det(M) = -2.0000000000000004\n",
      "M_inv = \n",
      "[[-2.   1. ]\n",
      " [ 1.5 -0.5]]\n",
      "eigenvalues = [-0.37228132  5.37228132]\n"
     ]
    }
   ],
   "source": [
    "# Create a 2x2 matrix\n",
    "M = np.array([[1, 2], [3, 4]])\n",
    "\n",
    "# Compute the determinant\n",
    "det = np.linalg.det(M)\n",
    "print(f\"det(M) = {det}\")\n",
    "\n",
    "# Compute the inverse\n",
    "M_inv = np.linalg.inv(M)\n",
    "print(f\"M_inv = \\n{M_inv}\")\n",
    "\n",
    "# Compute the eigenvalues\n",
    "eigenvalues = np.linalg.eigvals(M)\n",
    "print(f\"eigenvalues = {eigenvalues}\")"
   ]
  },
  {
   "cell_type": "markdown",
   "id": "eb49821f",
   "metadata": {},
   "source": [
    "#### Generating Arrays with Specific Properties\n",
    "\n",
    "NumPy also provides convenient functions for creating arrays with predefined properties, such as arrays filled with zeros, ones, or random numbers:"
   ]
  },
  {
   "cell_type": "code",
   "execution_count": 6,
   "id": "d3c2c25a",
   "metadata": {},
   "outputs": [
    {
     "name": "stdout",
     "output_type": "stream",
     "text": [
      "[[0. 0. 0.]\n",
      " [0. 0. 0.]\n",
      " [0. 0. 0.]]\n",
      "[[1. 1. 1.]\n",
      " [1. 1. 1.]\n",
      " [1. 1. 1.]]\n",
      "[[0.92578833 0.33026915 0.11574968]\n",
      " [0.12357159 0.41263254 0.74366638]\n",
      " [0.08468586 0.36330421 0.21459876]]\n"
     ]
    }
   ],
   "source": [
    "# Create a 3x3 array of zeros\n",
    "A = np.zeros((3, 3))\n",
    "print(A)\n",
    "\n",
    "# Create a 3x3 array of ones\n",
    "A = np.ones((3, 3))\n",
    "print(A)\n",
    "\n",
    "# Create a 3x3 array of random numbers\n",
    "A = np.random.rand(3, 3)\n",
    "print(A)"
   ]
  },
  {
   "cell_type": "markdown",
   "id": "e832d323",
   "metadata": {},
   "source": [
    "---\n",
    "\n",
    "### 1.3 Practice Exercises\n",
    "\n",
    "1. **Exercise 1:**\n",
    "   Create a 3x3 matrix with random integers between 0 and 9.\n",
    "\n",
    "   ```{dropdown} Hint\n",
    "   Use `np.random.randint()` to generate random integers.\n",
    "   ```\n",
    "\n",
    "2. **Exercise 2:**\n",
    "   Create a 3x3 identity matrix.\n",
    "\n",
    "   ```{dropdown} Hint\n",
    "   Use `np.eye()` to create an identity matrix.\n",
    "   ```\n",
    "\n",
    "---\n",
    "\n",
    "## Section 2: SciPy - A Powerful Tool for Scientific Computing\n",
    "\n",
    "While we won't delve deeply into SciPy in this lecture, it's a library we'll return to periodically throughout this course. SciPy builds on the foundation provided by NumPy, offering elegant and efficient solutions for a variety of complex scientific and engineering problems. However, before relying heavily on SciPy, it's important to understand the underlying principles by building some of these solutions from scratch. Once you have a solid foundation, SciPy will become an invaluable tool in your computational toolkit.\n",
    "\n",
    "### 2.1 Key Features of SciPy\n",
    "\n",
    "- **Optimization:** SciPy provides robust tools for optimization tasks, such as finding the minimum or maximum of a function. We’ll explore these capabilities in more detail in Lecture 4, where we'll tackle problems like finding the roots of equations in chemical reaction equilibria.\n",
    "\n",
    "- **Integration:** Whether you need to compute definite integrals or solve differential equations, SciPy offers a range of integration techniques. We’ll cover this in Lecture 5, where you'll learn how to apply these methods to problems such as calculating the overlap integral in chemical bonding.\n",
    "\n",
    "- **Fourier Transforms:** Fourier analysis is a critical tool in many scientific fields, including signal processing and spectroscopy. SciPy makes it easy to perform Fourier transforms, enabling you to analyze signals and decompose them into their constituent frequencies.\n",
    "\n",
    "- **And Much More:** SciPy is a vast library with modules covering topics like linear algebra, statistics, and image processing. As you progress through this course, you'll find many opportunities to leverage SciPy’s capabilities. For a full overview of what SciPy offers, you can explore the [official documentation](https://docs.scipy.org/doc/scipy/index.html).\n",
    "\n",
    "---\n",
    "\n",
    "## Section 3: Matplotlib - Creating Publication-Quality Visualizations\n",
    "\n",
    "Matplotlib is a versatile plotting library in Python that allows you to create publication-quality figures across various formats and interactive environments. Whether you need simple plots or complex visualizations, Matplotlib has you covered. With just a few lines of code, you can generate plots, histograms, bar charts, scatterplots, and much more. As a starting point, I highly recommend checking out the \"Anatomy of a Figure\" graphic from the Matplotlib documentation: [Anatomy of a Figure](https://matplotlib.org/stable/users/explain/quick_start.html#parts-of-a-figure). This reference will be invaluable as we work through different plotting tasks in this course.\n",
    "\n",
    "### 3.1 Key Features of Matplotlib\n",
    "\n",
    "- **Wide Range of Plot Types:** Create various plots, including line plots, scatter plots, histograms, bar charts, and more.\n",
    "- **Extensive Customization:** Customize every aspect of your plots, from colors and line styles to markers and annotations.\n",
    "- **Flexible Output Formats:** Save your plots in multiple formats, such as PNG, PDF, and SVG, making it easy to include them in publications, presentations, and reports.\n",
    "\n",
    "### 3.2 Creating Basic Plots with Matplotlib\n",
    "\n",
    "Let’s explore some of the most common plot types you’ll encounter in this course, starting with scatter plots, line plots, and histograms.\n",
    "\n",
    "#### Scatter Plots\n",
    "\n",
    "Scatter plots are ideal for visualizing relationships between two variables. Here’s how you can create a scatter plot using Matplotlib:"
   ]
  },
  {
   "cell_type": "code",
   "execution_count": 7,
   "id": "53e3bfab",
   "metadata": {},
   "outputs": [
    {
     "data": {
      "image/png": "[encoded data removed]",
      "text/plain": [
       "<Figure size 640x480 with 1 Axes>"
      ]
     },
     "metadata": {},
     "output_type": "display_data"
    }
   ],
   "source": [
    "import matplotlib.pyplot as plt\n",
    "import numpy as np\n",
    "\n",
    "# Create random data\n",
    "x = np.random.rand(100)\n",
    "y = np.random.rand(100)\n",
    "\n",
    "# Create a scatter plot\n",
    "plt.scatter(x, y)\n",
    "plt.xlabel('x')\n",
    "plt.ylabel('y')\n",
    "plt.title('Scatter Plot of Random Data')\n",
    "plt.show()"
   ]
  },
  {
   "cell_type": "markdown",
   "id": "e147b7a2",
   "metadata": {},
   "source": [
    "#### Line Plots\n",
    "\n",
    "Line plots are commonly used to visualize trends over a range of values. Here’s an example of how to create a simple line plot:"
   ]
  },
  {
   "cell_type": "code",
   "execution_count": 8,
   "id": "04700463",
   "metadata": {},
   "outputs": [
    {
     "data": {
      "image/png": "[encoded data removed]",
      "text/plain": [
       "<Figure size 640x480 with 1 Axes>"
      ]
     },
     "metadata": {},
     "output_type": "display_data"
    }
   ],
   "source": [
    "# Create data\n",
    "x = np.linspace(0, 10, 100)\n",
    "y = np.sin(x)\n",
    "\n",
    "# Create a line plot\n",
    "plt.plot(x, y)\n",
    "plt.xlabel('x')\n",
    "plt.ylabel('sin(x)')\n",
    "plt.title('Line Plot of Sine Function')\n",
    "plt.show()"
   ]
  },
  {
   "cell_type": "markdown",
   "id": "be3120b2",
   "metadata": {},
   "source": [
    "#### Histograms\n",
    "\n",
    "Histograms are useful for visualizing the distribution of data. They show how data is spread across different intervals, providing insights into its distribution:"
   ]
  },
  {
   "cell_type": "code",
   "execution_count": 9,
   "id": "001beec5",
   "metadata": {},
   "outputs": [
    {
     "data": {
      "image/png": "[encoded data removed]",
      "text/plain": [
       "<Figure size 640x480 with 1 Axes>"
      ]
     },
     "metadata": {},
     "output_type": "display_data"
    }
   ],
   "source": [
    "# Create random data\n",
    "data = np.random.randn(1000)\n",
    "\n",
    "# Create a histogram\n",
    "plt.hist(data, bins=30, color='blue', edgecolor='black')\n",
    "plt.xlabel('Value')\n",
    "plt.ylabel('Frequency')\n",
    "plt.title('Histogram of Random Data')\n",
    "plt.show()"
   ]
  },
  {
   "cell_type": "markdown",
   "id": "0d153634",
   "metadata": {},
   "source": [
    "### 3.3 Customizing Your Plots\n",
    "\n",
    "One of Matplotlib’s strengths is its ability to customize every aspect of a plot. This includes changing colors, line styles, marker styles, labels, titles, and more. Here’s an example that demonstrates these customization features:"
   ]
  },
  {
   "cell_type": "code",
   "execution_count": 10,
   "id": "a25a6560",
   "metadata": {},
   "outputs": [
    {
     "data": {
      "image/png": "[encoded data removed]",
      "text/plain": [
       "<Figure size 640x480 with 1 Axes>"
      ]
     },
     "metadata": {},
     "output_type": "display_data"
    }
   ],
   "source": [
    "# Create data\n",
    "x = np.linspace(0, 10, 100)\n",
    "y = np.sin(x)\n",
    "\n",
    "# Create a customized line plot\n",
    "plt.plot(x, y, color='red', linestyle='--', marker='o', label='sin(x)')\n",
    "plt.xlabel('x')\n",
    "plt.ylabel('y')\n",
    "plt.title('Customized Plot of Sine Function')\n",
    "plt.legend()\n",
    "plt.grid(True)\n",
    "plt.show()"
   ]
  },
  {
   "cell_type": "markdown",
   "id": "71b10b6e",
   "metadata": {},
   "source": [
    "In this example, we’ve customized the plot by changing the line color to red, using a dashed line style, and adding circular markers. We also included a legend, labeled the axes, added a title, and enabled grid lines for better readability.\n",
    "\n",
    "---\n",
    "\n",
    "### 3.4 Practice Exercises\n",
    "\n",
    "1. **Exercise 1:**\n",
    "   Create a scatter plot of random data with customizations, such as changing the color, marker style, and adding labels.\n",
    "\n",
    "   ```{dropdown} Hint\n",
    "   Use the `color` and `marker` parameters in `plt.scatter()`, and don't forget to add labels with `plt.xlabel()` and `plt.ylabel()`.\n",
    "   ```\n",
    "\n",
    "2. **Exercise 2:**\n",
    "   Create a histogram of random data with customizations, including changing the color, the number of bins, and adding titles and labels.\n",
    "\n",
    "   ```{dropdown} Hint\n",
    "   Use the `bins` and `color` parameters in `plt.hist()` to customize your histogram.\n",
    "   ```\n",
    "\n",
    "---\n",
    "\n",
    "## Section 4: Pandas - Powerful Data Manipulation in Python\n",
    "\n",
    "Pandas is like Excel on steroids—think of it as Excel integrated into Python, with far greater flexibility and power. Pandas is a versatile library designed for data manipulation and analysis, providing structures and functions to handle structured data efficiently. It is built on top of NumPy and is particularly useful for working with tabular data, such as spreadsheets and databases.\n",
    "\n",
    "### 4.1 Key Features of Pandas\n",
    "\n",
    "- **Flexible Data Structures:** Work with labeled data using Pandas’ two primary data structures: `Series` (1D) and `DataFrame` (2D). These structures allow you to easily manipulate and analyze data.\n",
    "- **Powerful Data Manipulation:** Perform complex operations such as filtering, grouping, merging, and aggregating data with ease.\n",
    "- **Comprehensive I/O Capabilities:** Pandas can read and write data in various formats, including CSV, Excel, and SQL databases, making it easy to integrate with other data sources.\n",
    "\n",
    "### 4.2 Series: The 1D Data Structure\n",
    "\n",
    "A `Series` in Pandas is a one-dimensional labeled array capable of holding any data type, such as integers, strings, or floating-point numbers. You can think of a `Series` as a single column in an Excel spreadsheet, with an index to label each row.\n",
    "\n",
    "Here’s how you can create a `Series` from a NumPy array:"
   ]
  },
  {
   "cell_type": "code",
   "execution_count": 11,
   "id": "1ab47482",
   "metadata": {},
   "outputs": [
    {
     "name": "stdout",
     "output_type": "stream",
     "text": [
      "0    0.640340\n",
      "1    1.288791\n",
      "2    0.440513\n",
      "3    0.429932\n",
      "4   -0.575324\n",
      "dtype: float64\n"
     ]
    }
   ],
   "source": [
    "import pandas as pd\n",
    "import numpy as np\n",
    "\n",
    "# Create a Series from a NumPy array\n",
    "s = pd.Series(np.random.randn(5))\n",
    "\n",
    "print(s)"
   ]
  },
  {
   "cell_type": "markdown",
   "id": "63d92269",
   "metadata": {},
   "source": [
    "In this `Series`, the first column represents the index (similar to row numbers in Excel), and the second column holds the data.\n",
    "\n",
    "```{admonition} Important\n",
    ":class: important\n",
    "By default, Python uses zero-based indexing, so the first element in a NumPy array or Pandas DataFrame has an index of 0.\n",
    "```\n",
    "\n",
    "### 4.3 DataFrame: The 2D Data Structure\n",
    "\n",
    "A `DataFrame` is a two-dimensional labeled data structure, similar to an Excel spreadsheet, where each column can contain different data types. `DataFrames` are the bread and butter of data manipulation in Pandas, allowing you to organize and manipulate data in powerful ways.\n",
    "\n",
    "Here’s how to create a `DataFrame` from a dictionary of NumPy arrays:"
   ]
  },
  {
   "cell_type": "code",
   "execution_count": 12,
   "id": "fc7b3629",
   "metadata": {},
   "outputs": [
    {
     "name": "stdout",
     "output_type": "stream",
     "text": [
      "          A         B\n",
      "0 -0.821785  0.884707\n",
      "1 -0.851055  0.373919\n",
      "2 -0.843290  0.649707\n",
      "3  0.734481  0.044403\n",
      "4 -0.558357  0.460471\n"
     ]
    }
   ],
   "source": [
    "# Create a DataFrame from a dictionary of NumPy arrays\n",
    "data = {\n",
    "    'A': np.random.randn(5),\n",
    "    'B': np.random.rand(5)\n",
    "}\n",
    "\n",
    "df = pd.DataFrame(data)\n",
    "\n",
    "print(df)"
   ]
  },
  {
   "cell_type": "markdown",
   "id": "efcdb359",
   "metadata": {},
   "source": [
    "In this `DataFrame`, the index column functions like the row numbers in Excel, and each key in the dictionary becomes a column. The `DataFrame` provides the power to manipulate and analyze your data more efficiently than traditional spreadsheet software.\n",
    "\n",
    "### 4.4 Reading and Writing Data\n",
    "\n",
    "Pandas provides functions for reading and writing data in a variety of formats, such as CSV, Excel, and SQL databases. For this example, you can download the `data.csv` file we'll be using [here](https://wustl.instructure.com/courses/141498/files/8299165/download?download_frd=1)."
   ]
  },
  {
   "cell_type": "code",
   "execution_count": 13,
   "id": "cc661aba",
   "metadata": {},
   "outputs": [
    {
     "name": "stdout",
     "output_type": "stream",
     "text": [
      "      Element  Per Mole  Per Atom Per Mole Unit Per Atom Unit\n",
      "0    Actinium    410.00      4.25        kJ/mol       eV/atom\n",
      "1    Aluminum    327.00      3.39        kJ/mol       eV/atom\n",
      "2   Americium    264.00      2.73        kJ/mol       eV/atom\n",
      "3    Antimony    265.00      2.75        kJ/mol       eV/atom\n",
      "4       Argon      7.74      0.08        kJ/mol       eV/atom\n",
      "..        ...       ...       ...           ...           ...\n",
      "85      Xenon     15.90      0.16        kJ/mol       eV/atom\n",
      "86  Ytterbium    154.00      1.60        kJ/mol       eV/atom\n",
      "87    Yttrium    422.00      4.37        kJ/mol       eV/atom\n",
      "88       Zinc    130.00      1.35        kJ/mol       eV/atom\n",
      "89  Zirconium    603.00      6.25        kJ/mol       eV/atom\n",
      "\n",
      "[90 rows x 5 columns]\n"
     ]
    }
   ],
   "source": [
    "# Read data from a CSV file\n",
    "df = pd.read_csv('data.csv')\n",
    "\n",
    "print(df)"
   ]
  },
  {
   "cell_type": "markdown",
   "id": "0b49f3ef",
   "metadata": {},
   "source": [
    "This dataset includes information like element names and their cohesive energies (the energy required to separate atoms in a solid to infinite distances), stored in units of kJ/mol and eV/atom. Pandas also allows you to write this data to a CSV file using the `to_csv` method:"
   ]
  },
  {
   "cell_type": "code",
   "execution_count": 14,
   "id": "bb6f19ae",
   "metadata": {},
   "outputs": [],
   "source": [
    "# Write the DataFrame to a CSV file\n",
    "df.to_csv('output.csv', index=False)"
   ]
  },
  {
   "cell_type": "markdown",
   "id": "2dbca0f1",
   "metadata": {},
   "source": [
    "Setting `index=False` prevents the index from being written to the file, which is useful if you want a clean output.\n",
    "\n",
    "### 4.5 Filtering Data\n",
    "\n",
    "One of Pandas’ strengths is its ability to filter data based on conditions. For example, you can filter a `DataFrame` to display only the rows where the cohesive energy falls within a specific range:\n",
    "\n",
    "````{margin}\n",
    "```{note}\n",
    "The `&` operator is used for element-wise logical `AND` operations in Pandas. You can also use `|` for `OR` operations, `~` for `NOT` operations, `==` for equality, and parentheses for grouping conditions.\n",
    "```\n",
    "````"
   ]
  },
  {
   "cell_type": "code",
   "execution_count": 15,
   "id": "1a8881e1",
   "metadata": {},
   "outputs": [
    {
     "name": "stdout",
     "output_type": "stream",
     "text": [
      "      Element  Per Mole  Per Atom Per Mole Unit Per Atom Unit\n",
      "15     Cesium      77.6     0.804        kJ/mol       eV/atom\n",
      "24   Fluorine      81.0     0.840        kJ/mol       eV/atom\n",
      "42    Mercury      65.0     0.670        kJ/mol       eV/atom\n",
      "57  Potassium      90.1     0.934        kJ/mol       eV/atom\n",
      "63   Rubidium      82.2     0.852        kJ/mol       eV/atom\n"
     ]
    }
   ],
   "source": [
    "# Filter rows where the cohesive energy is between 50 and 100 kJ/mol\n",
    "filtered_df = df[(df['Per Mole'] > 50) & (df['Per Mole'] < 100)]\n",
    "\n",
    "print(filtered_df)"
   ]
  },
  {
   "cell_type": "markdown",
   "id": "0c793ad4",
   "metadata": {},
   "source": [
    "This filtering technique is incredibly useful when working with large datasets, allowing you to focus on subsets of data that meet specific criteria.\n",
    "\n",
    "---\n",
    "\n",
    "### 4.6 Practice Exercises\n",
    "\n",
    "1. **Exercise 1:**\n",
    "   Create a `DataFrame` from a dictionary of NumPy arrays and write it to a CSV file.\n",
    "\n",
    "   ```{dropdown} Hint\n",
    "   Use the `pd.DataFrame()` function to create the `DataFrame`, and `to_csv()` to save it to a file.\n",
    "   ```\n",
    "\n",
    "2. **Exercise 2:**\n",
    "   Read data from a CSV file into a `DataFrame`, then filter the data based on a condition.\n",
    "\n",
    "   ```{dropdown} Hint\n",
    "   Use `pd.read_csv()` to load the data and the filtering syntax shown above to filter the `DataFrame`.\n",
    "   ```\n",
    "\n",
    "3. **Exercise 3:**\n",
    "   Filter a `DataFrame` based on a different condition. For example, try filtering for rows where the cohesive energy is greater than 150 kJ/mol.\n",
    "\n",
    "   ```{dropdown} Hint\n",
    "   Modify the filtering condition in the example provided.\n",
    "   ```\n",
    "\n",
    "---\n",
    "\n",
    "This concludes our second lecture. As you practice using these essential Python packages, you'll gain confidence in applying them to solve complex problems in the chemical sciences. The skills you develop here will serve as a strong foundation for your computational work, both in this course and beyond."
   ]
  }
 ],
 "metadata": {
  "jupytext": {
   "text_representation": {
    "extension": ".md",
    "format_name": "myst",
    "format_version": 0.13,
    "jupytext_version": "1.16.4"
   }
  },
  "kernelspec": {
   "display_name": "comp-prob-solv",
   "language": "python",
   "name": "python3"
  },
  "language_info": {
   "codemirror_mode": {
    "name": "ipython",
    "version": 3
   },
   "file_extension": ".py",
   "mimetype": "text/x-python",
   "name": "python",
   "nbconvert_exporter": "python",
   "pygments_lexer": "ipython3",
   "version": "3.12.4"
  },
  "source_map": [
   12,
   57,
   64,
   68,
   73,
   88,
   99,
   108,
   117,
   125,
   140,
   146,
   158,
   214,
   228,
   234,
   245,
   251,
   261,
   267,
   280,
   320,
   328,
   343,
   353,
   361,
   366,
   370,
   373,
   387,
   392
  ]
 },
 "nbformat": 4,
 "nbformat_minor": 5
}