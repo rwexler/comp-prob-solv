{
 "cells": [
  {
   "cell_type": "markdown",
   "metadata": {},
   "source": [
    "# Lecture 1: Introduction to Python for the Chemical Sciences\n",
    "\n",
    "Welcome to \"Computational Problem Solving in the Chemical Sciences\"! This course is designed to introduce you to how you can solve problems in chemistry, chemical engineering, chemical physics, chemical biology, and more using the modern numerical tools. While we will focus our attention on Python, mainly for the reason that it is a coveted skill in the workforce these days, there are many other possible tools that you can use to solve problems in the chemical sciences. These include spreadsheets (like Excel and Google Sheets), software packages with graphical user interfaces (like Origin, Mathematica, and MATLAB), and other programming languages (like R, Julia, and C++). Additionally, as we proceed further into the course, we will also introduce you to how Python can be used to simulate matter. This will include Monte Carlo and molecular dynamics simulations, however, Python and other languages are routinely used for quantum chemistry calculations, and more.\n",
    "\n",
    "## Step 1: Let's Get Python\n",
    "\n",
    "The first thing you need to do is to install Python on your computer. You can do this by visiting the [Python website](https://www.python.org/downloads/). We recommend that you install Python 3.8 or later. If you are using a Mac or Linux computer, Python is already installed on your computer. You can check this by opening a terminal and typing `python3 --version`. If you are using a Windows computer, you can open a command prompt and type `python --version`. If you see a version number, then Python is already installed on your computer. If you see an error message, then you need to install Python.\n",
    "\n",
    "## Step 2: Let's Get Jupyter\n",
    "\n",
    "The next thing you need to do is to install Jupyter on your computer. You can do this by opening a terminal or command prompt and typing `pip install jupyter`. If you are using a Mac or Linux computer, you may need to type `pip3 install jupyter`. If you are using a Windows computer, you can type `python -m pip install jupyter`. Once you have installed Jupyter, you can start it by typing `jupyter notebook` in the terminal or command prompt. This will open a new tab in your web browser with the Jupyter interface.\n",
    "\n",
    "## Step 3: Let's Get Started\n",
    "\n",
    "### Python Can Do Math\n",
    "\n",
    "Python is a powerful programming language that can be used to solve a wide range of problems in the chemical sciences. One of the things that Python is really good at is math. You can use Python to perform all kinds of mathematical operations, from simple arithmetic to complex calculus. For example, you can use Python to add two numbers together:\n",
    "\n",
    "```python\n",
    "2 + 2\n",
    "```\n",
    "\n",
    "This will return `4`, which is the sum of `2` and `2`. You can also use Python to multiply two numbers together:\n",
    "\n",
    "```python\n",
    "3 * 4\n",
    "```\n",
    "\n",
    "This will return `12`, which is the product of `3` and `4`. You can use Python to perform all kinds of mathematical operations, including addition, subtraction, multiplication, division, exponentiation, and more. Python also has a number of built-in functions that you can use to perform more complex mathematical operations. For example, you can use the `math` module to calculate the square root of a number:\n",
    "\n",
    "```python\n",
    "import math\n",
    "math.sqrt(9)\n",
    "```\n",
    "\n",
    "````{margin}\n",
    "```{note}\n",
    "The `math` module is a **library** of Python code that contains a collection of functions and constants for performing mathematical operations. You can use the `import` statement to load the `math` module into your Python program, and then you can use the functions and constants in the `math` module by prefixing them with `math.`. For more information about the `math` module, you can read the [Python documentation](https://docs.python.org/3/library/math.html).\n",
    "```\n",
    "````\n",
    "\n",
    "This will return `3.0`, which is the square root of `9`. You can use Python to perform all kinds of mathematical operations, from simple arithmetic to complex calculus. Python is a powerful programming language that can be used to solve a wide range of problems in the chemical sciences."
   ]
  },
  {
   "cell_type": "markdown",
   "metadata": {},
   "source": []
  }
 ],
 "metadata": {
  "kernelspec": {
   "display_name": "comp-prob-solv",
   "language": "python",
   "name": "python3"
  },
  "language_info": {
   "codemirror_mode": {
    "name": "ipython",
    "version": 3
   },
   "file_extension": ".py",
   "mimetype": "text/x-python",
   "name": "python",
   "nbconvert_exporter": "python",
   "pygments_lexer": "ipython3",
   "version": "3.10.14"
  }
 },
 "nbformat": 4,
 "nbformat_minor": 2
}