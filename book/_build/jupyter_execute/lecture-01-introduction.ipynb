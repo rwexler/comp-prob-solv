{
 "cells": [
  {
   "cell_type": "markdown",
   "metadata": {},
   "source": [
    "# Lecture 1: Introduction to Python for the Chemical Sciences\n",
    "\n",
    "Welcome to \"Computational Problem Solving in the Chemical Sciences\"! This course is designed to introduce you to how you can solve problems in chemistry, chemical engineering, chemical physics, chemical biology, and more using the modern numerical tools. While we will focus our attention on Python, mainly for the reason that it is a coveted skill in the workforce these days, there are many other possible tools that you can use to solve problems in the chemical sciences. These include spreadsheets (like Excel and Google Sheets), software packages with graphical user interfaces (like Origin, Mathematica, and MATLAB), and other programming languages (like R, Julia, and C++). Additionally, as we proceed further into the course, we will also introduce you to how Python can be used to simulate matter. This will include Monte Carlo and molecular dynamics simulations, however, Python and other languages are routinely used for quantum chemistry calculations, and more.\n",
    "\n",
    "## Step 1: Let's Get Python\n",
    "\n",
    "The first thing you need to do is to install Python on your computer. You can do this by visiting the [Python website](https://www.python.org/downloads/). We recommend that you install Python 3.8 or later. If you are using a Mac or Linux computer, Python is already installed on your computer. You can check this by opening a terminal and typing\n",
    "```bash\n",
    "python3 --version\n",
    "```\n",
    "If you are using a Windows computer, you can open a command prompt and type\n",
    "```bash\n",
    "python --version\n",
    "```\n",
    "If you see a version number, then Python is already installed on your computer. If you see an error message, then you need to install Python.\n",
    "\n",
    "## Step 2: Let's Get Jupyter\n",
    "\n",
    "The next thing you need to do is to install Jupyter on your computer. You can do this by opening a terminal or command prompt and typing\n",
    "```bash\n",
    "pip install jupyter\n",
    "```\n",
    "If you are using a Mac or Linux computer, you may need to type\n",
    "```bash\n",
    "pip3 install jupyter\n",
    "```\n",
    "If you are using a Windows computer, you can type\n",
    "```bash\n",
    "python -m pip install jupyter\n",
    "```\n",
    "Once you have installed Jupyter, you can start it by typing\n",
    "```bash\n",
    "jupyter notebook\n",
    "```\n",
    "in the terminal or command prompt. This will open a new tab in your web browser with the Jupyter interface.\n",
    "\n",
    "## Step 3: Let's Get Started\n",
    "\n",
    "### Python Can Do Math\n",
    "\n",
    "Python is a powerful programming language that can be used to solve a wide range of problems in the chemical sciences. One of the things that Python is really good at is math. You can use Python to perform all kinds of mathematical operations, from simple arithmetic to complex calculus. For example, you can use Python to add two numbers together:"
   ]
  },
  {
   "cell_type": "code",
   "execution_count": 1,
   "metadata": {},
   "outputs": [
    {
     "data": {
      "text/plain": [
       "4"
      ]
     },
     "execution_count": 1,
     "metadata": {},
     "output_type": "execute_result"
    }
   ],
   "source": [
    "2 + 2"
   ]
  },
  {
   "cell_type": "markdown",
   "metadata": {},
   "source": [
    "This will return `4`, which is the sum of `2` and `2`. You can also use Python to multiply two numbers together:"
   ]
  },
  {
   "cell_type": "code",
   "execution_count": 2,
   "metadata": {},
   "outputs": [
    {
     "data": {
      "text/plain": [
       "12"
      ]
     },
     "execution_count": 2,
     "metadata": {},
     "output_type": "execute_result"
    }
   ],
   "source": [
    "3 * 4"
   ]
  },
  {
   "cell_type": "markdown",
   "metadata": {},
   "source": [
    "This will return `12`, which is the product of `3` and `4`. You can use Python to perform all kinds of mathematical operations, including addition (`a + b`), subtraction (`a - b`), multiplication (`a * b`), division (`a / b`), exponentiation (for example, `a ** b` gives $a^b$), and more. Python also has a number of built-in functions that you can use to perform more complex mathematical operations. For example, you can use the `math` module to calculate the square root of a number:"
   ]
  },
  {
   "cell_type": "code",
   "execution_count": 3,
   "metadata": {},
   "outputs": [
    {
     "data": {
      "text/plain": [
       "3.0"
      ]
     },
     "execution_count": 3,
     "metadata": {},
     "output_type": "execute_result"
    }
   ],
   "source": [
    "import math\n",
    "math.sqrt(9)"
   ]
  },
  {
   "cell_type": "markdown",
   "metadata": {},
   "source": [
    "````{margin}\n",
    "```{note}\n",
    "The `math` module is a **library** of Python code that contains a collection of functions and constants for performing mathematical operations. You can use the `import` statement to load the `math` module into your Python program, and then you can use the functions and constants in the `math` module by prefixing them with `math.`. For more information about the `math` module, you can read the [Python documentation](https://docs.python.org/3/library/math.html).\n",
    "```\n",
    "````\n",
    "\n",
    "This will return `3.0`, which is the square root of `9`. You can use Python to perform all kinds of mathematical operations, from simple arithmetic to complex calculus. Python is a powerful programming language that can be used to solve a wide range of problems in the chemical sciences.\n",
    "\n",
    "In this example, you saw your first instance of importing a module in Python. The `import` statement is used to load a module into your Python program. In this case, we loaded the `math` module, which is a library of Python code that contains a collection of functions and constants for performing mathematical operations. Once you have imported a module, you can use the functions and constants in the module by prefixing them with the module name and a dot (`.`). For example, we used the `math.sqrt()` function to calculate the square root of a number.\n",
    "\n",
    "```{admonition} Exercise\n",
    "Calculate the value of $2^3 + 4^2$ using Python.\n",
    "```\n",
    "\n",
    "```{admonition} Exercise\n",
    "Calculate the value of $\\sqrt{16} + \\sqrt{25}$ using Python.\n",
    "```\n",
    "\n",
    "### Python Can Do Chemistry\n",
    "\n",
    "Python is also a powerful programming language that can be used to solve problems in chemistry. You can use Python to perform all kinds of chemical calculations, from simple stoichiometry to complex quantum chemistry. For example, you can use Python to calculate the molar mass of a compound:"
   ]
  },
  {
   "cell_type": "code",
   "execution_count": 4,
   "metadata": {},
   "outputs": [
    {
     "data": {
      "text/plain": [
       "44.010999999999996"
      ]
     },
     "execution_count": 4,
     "metadata": {},
     "output_type": "execute_result"
    }
   ],
   "source": [
    "# Calculate the molar mass of carbon dioxide (CO2)\n",
    "carbon_mass = 12.011\n",
    "oxygen_mass = 16.00\n",
    "molar_mass = carbon_mass + 2 * oxygen_mass\n",
    "molar_mass"
   ]
  },
  {
   "cell_type": "markdown",
   "metadata": {},
   "source": [
    "This will return `44.01`, which is the molar mass of carbon dioxide (CO$_2$). In this example, you saw your first instance of using variables in Python. A variable is a name that refers to a value. You can use variables to store values and perform calculations. In this case, we used variables to store the atomic masses of carbon (`carbon_mass`) and oxygen (`oxygen_mass`), and then we used those variables to calculate the molar mass of carbon dioxide (`molar_mass`). You can also use Python to calculate the number of moles of a compound:"
   ]
  },
  {
   "cell_type": "code",
   "execution_count": 5,
   "metadata": {},
   "outputs": [
    {
     "data": {
      "text/plain": [
       "0.22722108611679165"
      ]
     },
     "execution_count": 5,
     "metadata": {},
     "output_type": "execute_result"
    }
   ],
   "source": [
    "mass = 10.0\n",
    "molar_mass = 44.01\n",
    "moles = mass / molar_mass\n",
    "moles"
   ]
  },
  {
   "cell_type": "markdown",
   "metadata": {},
   "source": [
    "This will return `0.227`, which is the number of moles of carbon dioxide (CO$_2$) in 10.0 grams of the compound. You can use Python to perform all kinds of chemical calculations, from simple stoichiometry to complex quantum chemistry. Each variable in Python carries a data type. In the above example, `mass` and `molar_mass` are of type `float`, which is a data type that represents real numbers. The result of the division operation is also of type `float`. Python has several built-in data types, including `int` (for integers), `float` (for real numbers), `str` (for strings), `bool` (for Boolean values), and more. You can determine the data type of a variable using the `type()` function:"
   ]
  },
  {
   "cell_type": "code",
   "execution_count": 6,
   "metadata": {},
   "outputs": [
    {
     "data": {
      "text/plain": [
       "float"
      ]
     },
     "execution_count": 6,
     "metadata": {},
     "output_type": "execute_result"
    }
   ],
   "source": [
    "type(mass)"
   ]
  },
  {
   "cell_type": "markdown",
   "metadata": {},
   "source": [
    "This will return `<class 'float'>`, which indicates that `mass` is of type `float`.\n",
    "\n",
    "```{admonition} Exercise\n",
    "Calculate the molar mass of water (H$_2$O) using Python.\n",
    "```\n",
    "\n",
    "```{admonition} Exercise\n",
    "Calculate the number of moles of water (H$_2$O) in 100.0 grams of the compound using Python.\n",
    "```\n",
    "\n",
    "### Python Can Do Graphing\n",
    "\n",
    "Python is also a powerful programming language that can be used to create graphs and plots. You can use Python to visualize data, analyze trends, and communicate your results. For example, you can use Python to create a simple line plot:"
   ]
  },
  {
   "cell_type": "code",
   "execution_count": 7,
   "metadata": {},
   "outputs": [
    {
     "data": {
      "image/png": "[encoded data removed]",
      "text/plain": [
       "<Figure size 640x480 with 1 Axes>"
      ]
     },
     "metadata": {},
     "output_type": "display_data"
    }
   ],
   "source": [
    "import matplotlib.pyplot as plt\n",
    "\n",
    "x = [1, 2, 3, 4, 5]\n",
    "y = [1, 4, 9, 16, 25]\n",
    "\n",
    "plt.plot(x, y)\n",
    "\n",
    "plt.xlabel('x')\n",
    "plt.ylabel('y')\n",
    "plt.title('y = x^2')\n",
    "\n",
    "plt.show()"
   ]
  },
  {
   "cell_type": "markdown",
   "metadata": {},
   "source": [
    "The first line has a syntax that you haven't seen yet. This statement translates to \"import the `pyplot` module from the `matplotlib` library and give it the alias `plt`\". The `pyplot` module is a library of Python code that contains a collection of functions for creating graphs and plots. You can use the `pyplot` module to create all kinds of graphs and plots, including line plots, scatter plots, bar plots, and more. In this example, we used the `plot()` function to create a line plot of the function $y = x^2$. We then used the `xlabel()`, `ylabel()`, and `title()` functions to add labels to the x-axis, y-axis, and title of the plot, respectively. Finally, we used the `show()` function to display the plot.\n",
    "\n",
    "You can use Python to create all kinds of graphs and plots, from simple line plots to complex 3D plots. Python has a number of libraries that you can use to create graphs and plots, including `matplotlib`, `seaborn`, and `plotly`. Each of these libraries has its own strengths and weaknesses, so you may need to experiment with different libraries to find the one that works best for your needs.\n",
    "\n",
    "```{admonition} Exercise\n",
    "Create a line plot of the function $y = x^3$ for $x = 1, 2, 3, 4, 5$ using Python.\n",
    "```\n",
    "\n",
    "```{admonition} Exercise\n",
    "Create a scatter plot of the function $y = x^2$ for $x = 1, 2, 3, 4, 5$ using Python.\n",
    "```\n",
    "\n",
    "### Python Can Do More\n",
    "\n",
    "As a taste of what lies beyond this course, Python can be used to solve a wide range of problems in the chemical sciences. You can use Python to\n",
    "\n",
    "- Perform statistical analysis of data (using libraries like `numpy`, `scipy`, `pandas`, `statsmodels`, and `scikit-learn`)\n",
    "- Simulate matter (using libraries like `ase`, `pyscf`, `quacc`, `pymatgen`, and `cantera`)\n",
    "- And [more](https://github.com/lmmentel/awesome-python-chemistry)!"
   ]
  }
 ],
 "metadata": {
  "kernelspec": {
   "display_name": "comp-prob-solv",
   "language": "python",
   "name": "python3"
  },
  "language_info": {
   "codemirror_mode": {
    "name": "ipython",
    "version": 3
   },
   "file_extension": ".py",
   "mimetype": "text/x-python",
   "name": "python",
   "nbconvert_exporter": "python",
   "pygments_lexer": "ipython3",
   "version": "3.12.4"
  }
 },
 "nbformat": 4,
 "nbformat_minor": 2
}