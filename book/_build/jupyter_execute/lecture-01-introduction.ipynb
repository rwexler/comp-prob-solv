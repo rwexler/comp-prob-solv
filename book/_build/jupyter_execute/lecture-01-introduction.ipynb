{
 "cells": [
  {
   "cell_type": "markdown",
   "id": "e0fcda69",
   "metadata": {},
   "source": [
    "# Lecture 1: Introduction to Python for the Chemical Sciences\n",
    "\n",
    "Welcome to **Computational Problem Solving in the Chemical Sciences!** This course is designed to equip you with the skills to tackle a wide range of problems in chemistry, chemical engineering, chemical physics, chemical biology, and beyond, using modern numerical tools. While we will primarily focus on Python—a language highly valued in today's workforce—it's important to recognize that there are many other tools at your disposal for solving problems in the chemical sciences.\n",
    "\n",
    "These tools range from spreadsheet software like Excel and Google Sheets to specialized software packages with graphical user interfaces, such as Origin, Mathematica, and MATLAB. Additionally, other programming languages like R, Julia, and C++ are often employed for various scientific computing tasks.\n",
    "\n",
    "As we progress through the course, you'll not only learn the fundamentals of Python but also how to apply it to simulate matter at different scales, including techniques like Monte Carlo and molecular dynamics simulations. We'll also touch upon Python's use in quantum chemistry calculations, demonstrating its versatility and power across diverse areas of research.\n",
    "\n",
    "By the end of this course, you'll have a solid foundation in using Python to solve complex problems in the chemical sciences, preparing you for both academic research and industry applications.\n",
    "\n",
    "## Learning Objectives\n",
    "\n",
    "By the end of this lecture, you should be able to:\n",
    "\n",
    "- Install Python and Jupyter Notebook on your computer.\n",
    "- Perform basic mathematical operations in Python.\n",
    "- Use Python to solve chemical problems, such as calculating molar masses and the number of moles.\n",
    "- Create basic plots using Python's `matplotlib` library.\n",
    "\n",
    "---\n",
    "\n",
    "## Step 1: Getting Python Installed\n",
    "\n",
    "Before we dive into using Python, you'll need to have it installed on your computer. Python is available across all major operating systems, and installation is straightforward. Here's how you can get started:\n",
    "\n",
    "### 1.1 Download and Install Python\n",
    "\n",
    "- Visit the official [Python website](https://www.python.org/downloads/) and download the latest version of Python 3 (we recommend version 3.8 or later).\n",
    "- Follow the installation instructions specific to your operating system.\n",
    "\n",
    "### 1.2 Check if Python is Already Installed\n",
    "\n",
    "- **Mac and Linux Users:** Python typically comes pre-installed. To check, open a terminal and type:\n",
    "\n",
    "```bash\n",
    "python3 --version\n",
    "```\n",
    "\n",
    "If a version number appears, you're all set. If not, you'll need to install Python from the website above.\n",
    "\n",
    "- **Windows Users:** Open a command prompt and type:\n",
    "\n",
    "```bash\n",
    "python --version\n",
    "```\n",
    "\n",
    "If you see a version number, Python is installed. If you get an error, you'll need to install Python.\n",
    "\n",
    "### 1.3 Windows-Specific Note\n",
    "\n",
    "- During installation on Windows, make sure to check the box that says \"Add Python to PATH.\" This will make Python accessible from the command line.\n",
    "\n",
    "Once Python is installed and verified, you're ready to start coding!\n",
    "\n",
    "---\n",
    "\n",
    "## Step 2: Installing Jupyter Notebook\n",
    "\n",
    "Next, you'll need to install Jupyter Notebook, a powerful tool that allows you to create and share documents containing live code, equations, visualizations, and narrative text.\n",
    "\n",
    "### 2.1 Install Jupyter Notebook\n",
    "\n",
    "- **For Mac and Linux Users:** Open a terminal and type:\n",
    "\n",
    "```bash\n",
    "pip3 install jupyter\n",
    "```\n",
    "\n",
    "If `pip3` doesn't work, try:\n",
    "\n",
    "```bash\n",
    "python3 -m pip install jupyter\n",
    "```\n",
    "\n",
    "- **For Windows Users:** Open a command prompt and type:\n",
    "\n",
    "```bash\n",
    "python -m pip install jupyter\n",
    "```\n",
    "\n",
    "This command ensures that Jupyter is installed using the version of Python you have on your system.\n",
    "\n",
    "### 2.2 Launching Jupyter Notebook\n",
    "\n",
    "- After installation, you can start Jupyter Notebook by typing the following command in your terminal or command prompt:\n",
    "\n",
    "```bash\n",
    "jupyter notebook\n",
    "```\n",
    "\n",
    "- This will automatically open a new tab in your default web browser, presenting the Jupyter interface. From here, you can create new notebooks, organize your projects, and start coding!\n",
    "\n",
    "With Jupyter Notebook installed, you're now ready to start exploring Python interactively!\n",
    "\n",
    "---\n",
    "\n",
    "## Step 3: Let's Get Started with Python\n",
    "\n",
    "### 3.1 Python and Mathematics\n",
    "\n",
    "Python is a versatile programming language that excels at solving a wide range of problems in the chemical sciences, particularly when it comes to mathematical computations. Whether you're performing simple arithmetic or tackling more advanced calculus, Python is equipped to handle it all.\n",
    "\n",
    "Let’s start with some basic math operations in Python:\n",
    "\n",
    "- **Addition:** You can add two numbers easily:"
   ]
  },
  {
   "cell_type": "code",
   "execution_count": 1,
   "id": "df92ba2a",
   "metadata": {},
   "outputs": [
    {
     "data": {
      "text/plain": [
       "4"
      ]
     },
     "execution_count": 1,
     "metadata": {},
     "output_type": "execute_result"
    }
   ],
   "source": [
    "2 + 2"
   ]
  },
  {
   "cell_type": "markdown",
   "id": "0b63037b",
   "metadata": {},
   "source": [
    "- **Multiplication:** Multiplication is just as straightforward:"
   ]
  },
  {
   "cell_type": "code",
   "execution_count": 2,
   "id": "5cd2d3f8",
   "metadata": {},
   "outputs": [
    {
     "data": {
      "text/plain": [
       "12"
      ]
     },
     "execution_count": 2,
     "metadata": {},
     "output_type": "execute_result"
    }
   ],
   "source": [
    "3 * 4"
   ]
  },
  {
   "cell_type": "markdown",
   "id": "56c0c82a",
   "metadata": {},
   "source": [
    "Python supports a variety of mathematical operations, including:\n",
    "\n",
    "- **Subtraction:** `a - b`\n",
    "- **Division:** `a / b`\n",
    "- **Exponentiation:** `a ** b` (which gives $a^b$)\n",
    "\n",
    "````{margin}\n",
    "```{note}\n",
    "The `math` module is a built-in library in Python. To use it, you must first import it using the `import` statement. Once imported, you can access various mathematical functions and constants by prefixing them with `math`. For more details, refer to the [Python documentation](https://docs.python.org/3/library/math.html).\n",
    "```\n",
    "````\n",
    "\n",
    "Python's capabilities extend far beyond basic arithmetic. For example, to calculate the square root of a number, you can use the `math` module:"
   ]
  },
  {
   "cell_type": "code",
   "execution_count": 3,
   "id": "3e620602",
   "metadata": {},
   "outputs": [
    {
     "data": {
      "text/plain": [
       "3.0"
      ]
     },
     "execution_count": 3,
     "metadata": {},
     "output_type": "execute_result"
    }
   ],
   "source": [
    "import math\n",
    "math.sqrt(9)"
   ]
  },
  {
   "cell_type": "markdown",
   "id": "88436928",
   "metadata": {},
   "source": [
    "In this example, you’ve seen your first instance of importing a module in Python. The `import` statement allows you to bring additional functionality into your Python programs. In this case, by importing the `math` module, you gain access to a suite of mathematical tools that go beyond basic operations.\n",
    "\n",
    "Once imported, you can use any function from the module by prefixing it with `math`. For instance, `math.sqrt()` is the function to compute the square root.\n",
    "\n",
    "---\n",
    "\n",
    "### 3.2 Practice Exercises\n",
    "\n",
    "Let’s put this into practice with a couple of exercises:\n",
    "\n",
    "1. **Exercise 1:**\n",
    "   Calculate the value of $2^3 + 4^2$ using Python.\n",
    "\n",
    "   ```{dropdown} Hint\n",
    "   You can use the `**` operator for exponentiation.\n",
    "   ```\n",
    "\n",
    "2. **Exercise 2:**\n",
    "   Calculate the value of $\\sqrt{16} + \\sqrt{25}$ using Python.\n",
    "\n",
    "   ```{dropdown} Hint\n",
    "   Remember to use the `math.sqrt()` function for square roots.\n",
    "   ```\n",
    "\n",
    "---\n",
    "\n",
    "### 3.3 Python Can Do Chemistry\n",
    "\n",
    "Python is not just a powerful tool for mathematics; it can also be used to solve a wide range of problems in chemistry. Whether you're performing basic stoichiometric calculations or exploring complex quantum chemistry, Python has you covered.\n",
    "\n",
    "For example, let’s calculate the molar mass of carbon dioxide (CO$_2$):"
   ]
  },
  {
   "cell_type": "code",
   "execution_count": 4,
   "id": "739e09ee",
   "metadata": {},
   "outputs": [
    {
     "data": {
      "text/plain": [
       "44.010999999999996"
      ]
     },
     "execution_count": 4,
     "metadata": {},
     "output_type": "execute_result"
    }
   ],
   "source": [
    "carbon_mass = 12.011\n",
    "oxygen_mass = 16.00\n",
    "molar_mass = carbon_mass + 2 * oxygen_mass\n",
    "molar_mass"
   ]
  },
  {
   "cell_type": "markdown",
   "id": "8bd45dc2",
   "metadata": {},
   "source": [
    "In this example, you've encountered your first use of variables in Python. A variable is simply a name that refers to a value. You can use variables to store values and perform calculations. In this case, we stored the atomic masses of carbon (`carbon_mass`) and oxygen (`oxygen_mass`) as variables, and then used these to calculate the molar mass of CO$_2$.\n",
    "\n",
    "Python can also help you determine the number of moles of a compound:"
   ]
  },
  {
   "cell_type": "code",
   "execution_count": 5,
   "id": "c6ff2832",
   "metadata": {},
   "outputs": [
    {
     "data": {
      "text/plain": [
       "0.22722108611679165"
      ]
     },
     "execution_count": 5,
     "metadata": {},
     "output_type": "execute_result"
    }
   ],
   "source": [
    "mass = 10.0\n",
    "molar_mass = 44.01\n",
    "moles = mass / molar_mass\n",
    "moles"
   ]
  },
  {
   "cell_type": "markdown",
   "id": "9716fd38",
   "metadata": {},
   "source": [
    "As you can see, Python allows you to easily perform all kinds of chemical calculations. Each variable in Python has a data type, which determines the kind of data it can hold. In the above example, `mass` and `molar_mass` are of type `float`, meaning they represent real numbers. The result of the division operation (`moles`) is also a `float`.\n",
    "\n",
    "You can determine the data type of any variable using the `type()` function:"
   ]
  },
  {
   "cell_type": "code",
   "execution_count": 6,
   "id": "acb3f6d3",
   "metadata": {},
   "outputs": [
    {
     "data": {
      "text/plain": [
       "float"
      ]
     },
     "execution_count": 6,
     "metadata": {},
     "output_type": "execute_result"
    }
   ],
   "source": [
    "type(mass)"
   ]
  },
  {
   "cell_type": "markdown",
   "id": "b08e999c",
   "metadata": {},
   "source": [
    "---\n",
    "\n",
    "### 3.4 Practice Exercises\n",
    "\n",
    "1. **Exercise 1:**\n",
    "   Calculate the molar mass of water (H$_2$O) using Python.\n",
    "\n",
    "   ```{dropdown} Hint\n",
    "   Remember that the atomic masses of hydrogen and oxygen are approximately 1.008 and 16.00, respectively.\n",
    "   ```\n",
    "\n",
    "2. **Exercise 2:**\n",
    "   Calculate the number of moles of water (H$_2$O) in 100.0 grams of the compound using Python.\n",
    "\n",
    "   ```{dropdown} Hint\n",
    "   Use the molar mass you calculated in the previous exercise.\n",
    "   ```\n",
    "\n",
    "---\n",
    "\n",
    "### 3.5 Python Can Do Graphing\n",
    "\n",
    "Python is also a powerful tool for creating graphs and plots, which are essential for visualizing data, analyzing trends, and effectively communicating your results. Let's start with a simple example of a line plot:\n",
    "\n",
    "````{margin}\n",
    "```{note}\n",
    "The `$` symbols around the labels in the `xlabel()`, `ylabel()`, and `title()` functions are used to render the text in LaTeX format, which is commonly used for mathematical expressions. This allows you to include mathematical symbols and equations in your plots. For more information on LaTeX formatting, refer to the [Overleaf documentation](https://www.overleaf.com/learn/latex/Mathematical_expressions).\n",
    "```\n",
    "````"
   ]
  },
  {
   "cell_type": "code",
   "execution_count": 7,
   "id": "411f46c0",
   "metadata": {},
   "outputs": [
    {
     "data": {
      "image/png": "[encoded data removed]",
      "text/plain": [
       "<Figure size 640x480 with 1 Axes>"
      ]
     },
     "metadata": {},
     "output_type": "display_data"
    }
   ],
   "source": [
    "import matplotlib.pyplot as plt\n",
    "\n",
    "x = [1, 2, 3, 4, 5]\n",
    "y = [1, 4, 9, 16, 25]\n",
    "\n",
    "plt.plot(x, y)\n",
    "\n",
    "plt.xlabel('$x$')\n",
    "plt.ylabel('$y$')\n",
    "plt.title('$y = x^2$')\n",
    "\n",
    "plt.show()"
   ]
  },
  {
   "cell_type": "markdown",
   "id": "93419d06",
   "metadata": {},
   "source": [
    "In the first line, we encounter a new syntax: `import matplotlib.pyplot as plt`. This statement means, \"import the `pyplot` module from the `matplotlib` library and give it the alias `plt`.\" The `pyplot` module is part of the `matplotlib` library, which is a powerful tool for creating a wide variety of graphs and plots.\n",
    "\n",
    "In this example, we use the `plot()` function to create a line plot of the function $y = x^2$. We then use `xlabel()`, `ylabel()`, and `title()` to label the x-axis, y-axis, and add a title to the plot, respectively. Finally, `show()` is used to display the plot.\n",
    "\n",
    "Python offers several libraries for creating graphs and plots, each with its own strengths and use cases:\n",
    "\n",
    "- **`matplotlib`:** Great for creating basic plots like line plots, scatter plots, and bar plots.\n",
    "- **`seaborn`:** Built on top of `matplotlib`, it offers enhanced statistical plotting and a more attractive default style.\n",
    "- **`plotly`:** Ideal for creating interactive and complex plots, including 3D plots.\n",
    "\n",
    "You might find yourself experimenting with different libraries to determine which one best fits your specific needs.\n",
    "\n",
    "---\n",
    "\n",
    "### 3.6 Practice Exercises\n",
    "\n",
    "1. **Exercise 1:**\n",
    "   Create a line plot of the function $y = x^3$ for $x = 1, 2, 3, 4, 5$ using Python.\n",
    "\n",
    "   ```{dropdown} Hint\n",
    "   Modify the `y` values to reflect the function $y = x^3$.\n",
    "   ```\n",
    "\n",
    "2. **Exercise 2:**\n",
    "   Create a scatter plot of the function $y = x^2$ for $x = 1, 2, 3, 4, 5$ using Python.\n",
    "\n",
    "   ```{dropdown} Hint\n",
    "   Use the `scatter()` function from `pyplot` to create the scatter plot.\n",
    "   ```\n",
    "\n",
    "3. **Challenge:**\n",
    "   Create a plot that shows both $y = x^2$ and $y = x^3$ on the same graph. Use different colors and add a legend to differentiate between the two lines.\n",
    "\n",
    "   ```{dropdown} Hint\n",
    "   You can use the `plot()` function twice to plot both functions on the same graph. Use the `legend()` function to add a legend.\n",
    "   ```\n",
    "\n",
    "---\n",
    "\n",
    "### 3.7 Python Can Do More\n",
    "\n",
    "Python's versatility extends far beyond what we'll cover in this course. As you continue your journey in the chemical sciences, you'll find Python to be an invaluable tool for tackling a wide array of problems. Here’s a glimpse of what Python can help you achieve:\n",
    "\n",
    "- **Statistical Analysis of Data:**\n",
    "  Python can handle complex statistical analyses with ease, using powerful libraries such as:\n",
    "  - `numpy`: For numerical operations and array processing.\n",
    "  - `scipy`: For advanced scientific computations, including statistics.\n",
    "  - `pandas`: For data manipulation and analysis, particularly with tabular data.\n",
    "  - `statsmodels`: For statistical modeling and testing.\n",
    "  - `scikit-learn`: For machine learning and predictive modeling.\n",
    "\n",
    "- **Simulating Matter:**\n",
    "  Python also excels in simulating matter, which is crucial for research in the chemical sciences. Key libraries include:\n",
    "  - `ase`: The Atomic Simulation Environment for setting up, manipulating, running, visualizing, and analyzing atomistic simulations.\n",
    "  - `pyscf`: For quantum chemistry and electronic structure calculations.\n",
    "  - `quacc`: An automated workflow engine for quantum chemistry and materials science.\n",
    "  - `pymatgen`: The Python Materials Genomics library, useful for materials analysis.\n",
    "  - `cantera`: For thermodynamic, kinetic, and transport properties of chemical reactions.\n",
    "\n",
    "- **And Much More:**\n",
    "  The possibilities with Python are vast. For more resources and tools specifically tailored to chemistry, check out the [awesome-python-chemistry](https://github.com/lmmentel/awesome-python-chemistry) repository.\n",
    "\n",
    "---\n",
    "\n",
    "This concludes our first lecture. As you move forward, practice is key to mastering Python's powerful capabilities. Don't hesitate to experiment with the code, try out the exercises, and explore additional resources to deepen your understanding. Welcome to the world of computational problem-solving in the chemical sciences!"
   ]
  }
 ],
 "metadata": {
  "jupytext": {
   "text_representation": {
    "extension": ".md",
    "format_name": "myst",
    "format_version": 0.13,
    "jupytext_version": "1.16.4"
   }
  },
  "kernelspec": {
   "display_name": "comp-prob-solv",
   "language": "python",
   "name": "python3"
  },
  "language_info": {
   "codemirror_mode": {
    "name": "ipython",
    "version": 3
   },
   "file_extension": ".py",
   "mimetype": "text/x-python",
   "name": "python",
   "nbconvert_exporter": "python",
   "pygments_lexer": "ipython3",
   "version": "3.12.4"
  },
  "source_map": [
   12,
   120,
   122,
   126,
   128,
   144,
   147,
   181,
   186,
   192,
   197,
   203,
   205,
   237,
   250
  ]
 },
 "nbformat": 4,
 "nbformat_minor": 5
}