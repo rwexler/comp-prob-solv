{
 "cells": [
  {
   "cell_type": "markdown",
   "metadata": {},
   "source": [
    "## Lecture 4: Chemical Reaction Equilibria and Roots of Equations\n",
    "\n",
    "### Introduction to Chemical Reaction Equilibria\n",
    "\n",
    "In chemical sciences, determining the equilibrium state of a reaction is crucial as it tells us the proportions of reactants and products when a reaction has reached a state where no further changes occur. This state is characterized by the minimization of the system's free energy, typically the Gibbs free energy at constant temperature and pressure.\n",
    "\n",
    "Consider a classical chemical reaction such as water splitting into hydrogen and oxygen gas:\n",
    "\n",
    "$$\n",
    "2 \\text{H}_2\\text{O} \\rightleftharpoons 2 \\text{H}_2 + \\text{O}_2\n",
    "$$\n",
    "\n",
    "At equilibrium, the reaction mixture conforms to the law of mass action, which relates the concentrations (or partial pressures) of the species to the equilibrium constant, $K_P$.\n",
    "\n",
    "### Mathematical Formulation of Equilibrium Problems\n",
    "\n",
    "For a given reaction, the equilibrium constant $K_P$ can be expressed as:\n",
    "\n",
    "$$\n",
    "K_P = \\frac{(P_{\\text{H}_2} / P^{\\circ})^2)(P_{\\text{O}_2} / P^{\\circ})}{(P_{\\text{H}_2\\text{O}} / P^{\\circ})^2}\n",
    "$$\n",
    "\n",
    "In the context of our example, starting with 2 moles of water vapor, the equilibrium concentrations can be formulated as follows using an ICE table:\n",
    "\n",
    "| Species | Initial (mol) | Change (mol) | Equilibrium (mol) | Partial Pressure (bar) |\n",
    "|---------|---------------|--------------|-------------------|------------------------|\n",
    "| $\\text{H}_2\\text{O}$ | $2$ | $-2x$ | $2 - 2x$ | $(1 - x) P$ |\n",
    "| $\\text{H}_2$ | $0$ | $2x$ | $2x$ | $xP$ |\n",
    "| $\\text{O}_2$ | $0$ | $x$ | $x$ | $xP$ |\n",
    "\n",
    "Here, $x$ represents the equilibrium progress of the reaction. \n",
    "\n",
    "### Numerical Methods for Finding Roots of Equations\n",
    "\n",
    "Root-finding is a common numerical problem in chemical sciences, especially when dealing with non-linear equilibrium equations. Standard algorithms include:\n",
    "\n",
    "- **Bisection Method**: Iteratively narrows down the range where a root lies.\n",
    "- **Newton-Raphson Method**: Uses derivatives to converge to a root quickly.\n",
    "- **Secant Method**: An approximation of Newton-Raphson that doesn’t require the derivative.\n",
    "\n",
    "```{admonition} Note\n",
    ":class: note\n",
    "In practice, these methods are implemented using numerical libraries, such as `scipy.optimize` in Python, which we will explore shortly.\n",
    "```\n",
    "\n",
    "### Implementing Root-Finding Methods in Python\n",
    "\n",
    "Let's start by solving a quadratic equation using both the quadratic formula and numerical methods. For instance, consider the equation:\n",
    "\n",
    "$$\n",
    "x^2 - 3x + 2 = 0\n",
    "$$\n",
    "\n",
    "Using the quadratic formula:\n",
    "\n",
    "$$\n",
    "x = \\frac{3 \\pm \\sqrt{(-3)^2 - 4 \\cdot 1 \\cdot 2}}{2 \\cdot 1} = 2, 1\n",
    "$$\n",
    "\n",
    "Now, let's use Python's `scipy.optimize.minimize` function to find these roots numerically."
   ]
  },
  {
   "cell_type": "code",
   "execution_count": 1,
   "metadata": {},
   "outputs": [
    {
     "name": "stdout",
     "output_type": "stream",
     "text": [
      "1.0000000000000009\n"
     ]
    }
   ],
   "source": [
    "from scipy.optimize import minimize\n",
    "\n",
    "# Define the objective function\n",
    "def quadratic_eq(x):\n",
    "    return abs(x ** 2 - 3 * x + 2)\n",
    "\n",
    "# Perform the minimization\n",
    "result = minimize(\n",
    "    fun=quadratic_eq,\n",
    "    x0=0,\n",
    "    method=\"Nelder-Mead\",\n",
    "    tol=1e-6\n",
    ")\n",
    "\n",
    "print(result[\"x\"][0])  # Should print a value close to 1 or 2"
   ]
  },
  {
   "cell_type": "markdown",
   "metadata": {},
   "source": [
    "```{admonition} Initial Guess Matters\n",
    ":class: warning\n",
    "What do you think would happen if the initial guess was set to 2.1? Would it still find the same root?\n",
    "```\n",
    "\n",
    "Let's check:"
   ]
  },
  {
   "cell_type": "code",
   "execution_count": 2,
   "metadata": {},
   "outputs": [
    {
     "name": "stdout",
     "output_type": "stream",
     "text": [
      "2.000000381469727\n"
     ]
    }
   ],
   "source": [
    "result = minimize(\n",
    "    fun=quadratic_eq,\n",
    "    x0=2.1,\n",
    "    method=\"Nelder-Mead\",\n",
    "    tol=1e-6\n",
    ")\n",
    "\n",
    "print(result[\"x\"][0])  # Notice how it converges to a different root!"
   ]
  },
  {
   "cell_type": "markdown",
   "metadata": {},
   "source": [
    "```{admonition} Note\n",
    ":class: note\n",
    "The initial guess significantly impacts the result, especially for non-linear or multi-root equations. \n",
    "```\n",
    "\n",
    "### Example: Chemical Reaction Equilibrium via Numerical Method\n",
    "\n",
    "For the water-splitting reaction at 1000 K, where $K_P = 10.060$:"
   ]
  },
  {
   "cell_type": "code",
   "execution_count": 3,
   "metadata": {},
   "outputs": [
    {
     "name": "stdout",
     "output_type": "stream",
     "text": [
      "76%\n"
     ]
    }
   ],
   "source": [
    "def our_equation(x, K_P):\n",
    "    return abs(K_P * (1 - x) ** 2 - x ** 2)\n",
    "\n",
    "result = minimize(\n",
    "    fun=our_equation,\n",
    "    x0=0,\n",
    "    args=(10.060,),\n",
    "    method=\"Nelder-Mead\",\n",
    "    tol=1e-6\n",
    ")\n",
    "\n",
    "print(\"{:.0f}%\".format(result[\"x\"][0] * 100))  # Should print approximately 76%"
   ]
  },
  {
   "cell_type": "markdown",
   "metadata": {},
   "source": [
    "```{admonition} Warning\n",
    ":class: warning\n",
    "Always ensure the physical relevance of the solution. For example, $x$ must be between 0 and 1 (0% to 100% progress), which can be enforced using bounds:\n",
    "```"
   ]
  },
  {
   "cell_type": "code",
   "execution_count": 4,
   "metadata": {},
   "outputs": [
    {
     "name": "stdout",
     "output_type": "stream",
     "text": [
      "76%\n"
     ]
    },
    {
     "name": "stderr",
     "output_type": "stream",
     "text": [
      "/var/folders/n9/q030dl3x6qgfqffys4wc7d4c0000gn/T/ipykernel_7467/3060615363.py:1: OptimizeWarning: Initial guess is not within the specified bounds\n",
      "  result = minimize(\n"
     ]
    }
   ],
   "source": [
    "result = minimize(\n",
    "    fun=our_equation,\n",
    "    x0=2,\n",
    "    args=(10.060,),\n",
    "    method=\"Nelder-Mead\",\n",
    "    tol=1e-6,\n",
    "    bounds=[(0, 1)]\n",
    ")\n",
    "\n",
    "print(\"{:.0f}%\".format(result[\"x\"][0] * 100))  # This constraint helps avoid unphysical results."
   ]
  },
  {
   "cell_type": "markdown",
   "metadata": {},
   "source": [
    "### Hands-On Activity: Solving a Chemical Equilibrium Problem\n",
    "\n",
    "Now, let's revisit the cubic equation:\n",
    "\n",
    "$$\n",
    "x^3 - 6x^2 + 11x - 6 = 0\n",
    "$$\n",
    "\n",
    "Use the `minimize` function to find the roots with different initial guesses:"
   ]
  },
  {
   "cell_type": "code",
   "execution_count": 5,
   "metadata": {},
   "outputs": [
    {
     "name": "stdout",
     "output_type": "stream",
     "text": [
      "1.0000003051757815\n",
      "2.0000003433227533\n",
      "3.000000019073487\n"
     ]
    }
   ],
   "source": [
    "def cubic_eq(x):\n",
    "    return abs(x ** 3 - 6 * x ** 2 + 11 * x - 6)\n",
    "\n",
    "# Low initial guess\n",
    "low_root_guess = minimize(\n",
    "    fun=cubic_eq,\n",
    "    x0=0.9,\n",
    "    method=\"Nelder-Mead\",\n",
    "    tol=1e-6\n",
    ")\n",
    "print(low_root_guess[\"x\"][0])  # Should be close to 1\n",
    "\n",
    "# Medium initial guess\n",
    "medium_root_guess = minimize(\n",
    "    fun=cubic_eq,\n",
    "    x0=1.9,\n",
    "    method=\"Nelder-Mead\",\n",
    "    tol=1e-6\n",
    ")\n",
    "print(medium_root_guess[\"x\"][0])  # Should be close to 2\n",
    "\n",
    "# High initial guess\n",
    "high_root_guess = minimize(\n",
    "    fun=cubic_eq,\n",
    "    x0=2.9,\n",
    "    method=\"Nelder-Mead\",\n",
    "    tol=1e-6\n",
    ")\n",
    "print(high_root_guess[\"x\"][0])  # Should be close to 3"
   ]
  },
  {
   "cell_type": "markdown",
   "metadata": {},
   "source": [
    "```{admonition} Exercise\n",
    ":class: tip\n",
    "Try different initial guesses and see how they impact the results. Reflect on how the method converges based on your guess.\n",
    "```"
   ]
  }
 ],
 "metadata": {
  "kernelspec": {
   "display_name": "comp-prob-solv",
   "language": "python",
   "name": "python3"
  },
  "language_info": {
   "codemirror_mode": {
    "name": "ipython",
    "version": 3
   },
   "file_extension": ".py",
   "mimetype": "text/x-python",
   "name": "python",
   "nbconvert_exporter": "python",
   "pygments_lexer": "ipython3",
   "version": "3.12.4"
  }
 },
 "nbformat": 4,
 "nbformat_minor": 2
}
