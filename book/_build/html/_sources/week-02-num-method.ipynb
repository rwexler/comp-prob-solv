{
 "cells": [
  {
   "cell_type": "markdown",
   "metadata": {},
   "source": [
    "# Module 2: Numerical Methods in Python\n",
    "\n",
    "## Introduction\n",
    "\n",
    "In this module, you will learn about numerical methods in Python. You will learn how to compute roots of equations, integrate functions, and solve systems of equations. You will also learn how to use the `numpy` and `scipy` libraries to perform these tasks.\n",
    "\n",
    "## Learning Objectives\n",
    "\n",
    "- Use the `numpy` library to perform numerical computations in Python.\n",
    "- Use the `scipy` library to perform numerical computations in Python.\n",
    "- Use numerical methods to solve equations.\n",
    "- Use numerical methods to integrate functions.\n",
    "- Use numerical methods to solve systems of equations.\n",
    "\n",
    "## Numerical Methods\n",
    "\n",
    "Numerical methods are techniques used to approximate solutions to mathematical problems that are difficult or impossible to solve exactly. These problems can arise in a variety of fields, including engineering, physics, and finance. Numerical methods are used to solve problems that involve continuous functions, such as finding the roots of an equation, integrating a function, or solving a system of equations.\n",
    "\n",
    "In this module, we will focus on three common numerical methods:\n",
    "\n",
    "1. Root-finding methods: These methods are used to find the roots of an equation, which are the values of the variable that satisfy the equation. The most common root-finding method is the bisection method, which is used to find the root of a continuous function within a given interval.\n",
    "\n",
    "2. Integration methods: These methods are used to compute the definite integral of a function, which represents the area under the curve of the function. The most common integration method is the trapezoidal rule, which approximates the integral by dividing the interval into trapezoids.\n",
    "\n",
    "3. Linear algebra methods: These methods are used to solve systems of linear equations, which are equations in which the unknowns are linearly related to each other. The most common linear algebra method is Gaussian elimination, which is used to solve a system of linear equations by transforming the system into row-echelon form.\n",
    "\n",
    "In this module, we will learn how to use these numerical methods to solve problems in Python. We will use the `numpy` library to perform numerical computations and the `scipy` library to access more advanced numerical methods.\n",
    "\n",
    "## Getting Started\n",
    "\n",
    "To get started, you will need to install the `numpy` and `scipy` libraries. You can install these libraries using the following commands:\n",
    "\n",
    "```bash\n",
    "pip install numpy\n",
    "pip install scipy\n",
    "```\n",
    "\n",
    "Once you have installed the libraries, you can import them into your Python code using the following commands:"
   ]
  },
  {
   "cell_type": "code",
   "execution_count": 5,
   "metadata": {},
   "outputs": [],
   "source": [
    "import numpy as np\n",
    "import scipy as sp"
   ]
  },
  {
   "cell_type": "markdown",
   "metadata": {},
   "source": [
    "In the following sections, we will learn how to use these libraries to perform numerical computations in Python.\n",
    "\n",
    "## Chemical Reaction Equilibria and Roots of Equations\n",
    "\n",
    "In this section, we will learn how to use numerical methods to solve chemical reaction equilibria problems. Chemical reaction equilibria problems involve finding the equilibrium composition of a system of chemical reactions. The equilibrium composition is the composition of the system when the rates of the forward and reverse reactions are equal."
   ]
  },
  {
   "cell_type": "markdown",
   "metadata": {},
   "source": []
  }
 ],
 "metadata": {
  "kernelspec": {
   "display_name": "comp-prob-solv",
   "language": "python",
   "name": "python3"
  },
  "language_info": {
   "codemirror_mode": {
    "name": "ipython",
    "version": 3
   },
   "file_extension": ".py",
   "mimetype": "text/x-python",
   "name": "python",
   "nbconvert_exporter": "python",
   "pygments_lexer": "ipython3",
   "version": "3.12.4"
  }
 },
 "nbformat": 4,
 "nbformat_minor": 2
}
