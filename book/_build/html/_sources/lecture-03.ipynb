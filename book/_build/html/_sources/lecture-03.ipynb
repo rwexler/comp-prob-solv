{
 "cells": [
  {
   "cell_type": "markdown",
   "metadata": {},
   "source": [
    "# Lecture 3: Control Structures in Python\n",
    "\n",
    "## 1. Introduction\n",
    "\n",
    "In this lecture, we will learn about control structures in Python. Control structures are used to control the flow of execution in a program. They allow us to execute certain blocks of code based on certain conditions.\n",
    "\n",
    "There are three main types of control structures in Python:\n",
    "\n",
    "1. Conditional Statements\n",
    "2. Loops\n",
    "3. Functions\n",
    "\n",
    "## 2. Conditional Statements\n",
    "\n",
    "Conditional statements are used to execute certain blocks of code based on certain conditions. The most common conditional statements in Python are:\n",
    "\n",
    "1. `if` statement\n",
    "2. `if-else` statement\n",
    "3. `if-elif-else` statement\n",
    "\n",
    "### 2.1 `if` statement\n",
    "\n",
    "The `if` statement is used to execute a block of code if a certain condition is true. The syntax of the `if` statement is as follows:\n",
    "\n",
    "```python\n",
    "if condition:\n",
    "    # block of code\n",
    "```\n",
    "\n",
    "Here, `condition` is an expression that evaluates to either `True` or `False`. If the condition is `True`, the block of code inside the `if` statement is executed. If the condition is `False`, the block of code is skipped.\n",
    "\n",
    "Let's look at an example:"
   ]
  },
  {
   "cell_type": "code",
   "execution_count": 1,
   "metadata": {},
   "outputs": [
    {
     "name": "stdout",
     "output_type": "stream",
     "text": [
      "x is greater than 5\n"
     ]
    }
   ],
   "source": [
    "x = 10\n",
    "\n",
    "if x > 5:\n",
    "    print(\"x is greater than 5\")"
   ]
  },
  {
   "cell_type": "markdown",
   "metadata": {},
   "source": [
    "In this example, the condition `x > 5` evaluates to `True` because `x` is `10`, which is greater than `5`. Therefore, the block of code inside the `if` statement is executed.\n",
    "\n",
    "### 2.2 `if-else` statement\n",
    "\n",
    "The `if-else` statement is used to execute one block of code if a certain condition is true, and another block of code if the condition is false. The syntax of the `if-else` statement is as follows:\n",
    "\n",
    "```python\n",
    "if condition:\n",
    "    # block of code\n",
    "else:\n",
    "    # block of code\n",
    "```\n",
    "\n",
    "Here, `condition` is an expression that evaluates to either `True` or `False`. If the condition is `True`, the block of code inside the `if` statement is executed. If the condition is `False`, the block of code inside the `else` statement is executed.\n",
    "\n",
    "Let's look at an example:"
   ]
  },
  {
   "cell_type": "code",
   "execution_count": 2,
   "metadata": {},
   "outputs": [
    {
     "name": "stdout",
     "output_type": "stream",
     "text": [
      "x is greater than 5\n"
     ]
    }
   ],
   "source": [
    "x = 10\n",
    "\n",
    "if x > 5:\n",
    "    print(\"x is greater than 5\")\n",
    "else:\n",
    "    print(\"x is less than or equal to 5\")"
   ]
  },
  {
   "cell_type": "markdown",
   "metadata": {},
   "source": [
    "In this example, the condition `x > 5` evaluates to `True` because `x` is `10`, which is greater than `5`. Therefore, the block of code inside the `if` statement is executed.\n",
    "\n",
    "### 2.3 `if-elif-else` statement\n",
    "\n",
    "The `if-elif-else` statement is used to execute one block of code if a certain condition is true, another block of code if another condition is true, and a default block of code if none of the conditions are true. The syntax of the `if-elif-else` statement is as follows:\n",
    "\n",
    "```python\n",
    "if condition1:\n",
    "    # block of code\n",
    "elif condition2:\n",
    "    # block of code\n",
    "else:\n",
    "    # block of code\n",
    "```\n",
    "\n",
    "Here, `condition1` and `condition2` are expressions that evaluate to either `True` or `False`. If `condition1` is `True`, the block of code inside the first `if` statement is executed. If `condition1` is `False` and `condition2` is `True`, the block of code inside the `elif` statement is executed. If both `condition1` and `condition2` are `False`, the block of code inside the `else` statement is executed.\n",
    "\n",
    "Let's look at an example:"
   ]
  },
  {
   "cell_type": "code",
   "execution_count": 3,
   "metadata": {},
   "outputs": [
    {
     "name": "stdout",
     "output_type": "stream",
     "text": [
      "x is greater than 5\n"
     ]
    }
   ],
   "source": [
    "x = 10\n",
    "\n",
    "if x > 5:\n",
    "    print(\"x is greater than 5\")\n",
    "elif x < 5:\n",
    "    print(\"x is less than 5\")\n",
    "else:\n",
    "    print(\"x is equal to 5\")"
   ]
  },
  {
   "cell_type": "markdown",
   "metadata": {},
   "source": [
    "In this example, the condition `x > 5` evaluates to `True` because `x` is `10`, which is greater than `5`. Therefore, the block of code inside the first `if` statement is executed.\n",
    "\n",
    "## 3. Loops\n",
    "\n",
    "Loops are used to execute a block of code multiple times. The most common types of loops in Python are:\n",
    "\n",
    "1. `for` loop\n",
    "2. `while` loop\n",
    "\n",
    "### 3.1 `for` loop\n",
    "\n",
    "The `for` loop is used to iterate over a sequence of elements (such as a list, tuple, or string) and execute a block of code for each element. The syntax of the `for` loop is as follows:\n",
    "\n",
    "```python\n",
    "for element in sequence:\n",
    "    # block of code\n",
    "```\n",
    "\n",
    "Here, `element` is a variable that takes on the value of each element in the `sequence` one by one. The block of code inside the `for` loop is executed for each element in the `sequence`.\n",
    "\n",
    "Let's look at an example:"
   ]
  },
  {
   "cell_type": "code",
   "execution_count": 4,
   "metadata": {},
   "outputs": [
    {
     "name": "stdout",
     "output_type": "stream",
     "text": [
      "0\n",
      "1\n",
      "2\n",
      "3\n",
      "4\n"
     ]
    }
   ],
   "source": [
    "for i in range(5):\n",
    "    print(i)"
   ]
  },
  {
   "cell_type": "markdown",
   "metadata": {},
   "source": [
    "In this example, the `range(5)` function generates a sequence of numbers from `0` to `4`. The `for` loop iterates over this sequence, and the block of code inside the `for` loop prints each number.\n",
    "\n",
    "#### Looping Through a List\n",
    "\n",
    "You can also loop through a list using a `for` loop. Here's an example:"
   ]
  },
  {
   "cell_type": "code",
   "execution_count": 5,
   "metadata": {},
   "outputs": [
    {
     "name": "stdout",
     "output_type": "stream",
     "text": [
      "apple\n",
      "banana\n",
      "cherry\n"
     ]
    }
   ],
   "source": [
    "fruits = [\"apple\", \"banana\", \"cherry\"]\n",
    "\n",
    "for fruit in fruits:\n",
    "    print(fruit)"
   ]
  },
  {
   "cell_type": "markdown",
   "metadata": {},
   "source": [
    "In this example, the `for` loop iterates over the list of fruits, and the block of code inside the `for` loop prints each fruit.\n",
    "\n",
    "#### Looping Through a String\n",
    "\n",
    "You can also loop through a string using a `for` loop. Here's an example:"
   ]
  },
  {
   "cell_type": "code",
   "execution_count": 6,
   "metadata": {},
   "outputs": [
    {
     "name": "stdout",
     "output_type": "stream",
     "text": [
      "h\n",
      "e\n",
      "l\n",
      "l\n",
      "o\n"
     ]
    }
   ],
   "source": [
    "for char in \"hello\":\n",
    "    print(char)"
   ]
  },
  {
   "cell_type": "markdown",
   "metadata": {},
   "source": [
    "In this example, the `for` loop iterates over the characters in the string `\"hello\"`, and the block of code inside the `for` loop prints each character.\n",
    "\n",
    "##### List Comprehensions\n",
    "\n",
    "List comprehensions are a concise way to create lists in Python. They allow you to create a new list by applying an expression to each element in an existing list. The syntax of a list comprehension is as follows:\n",
    "\n",
    "```python\n",
    "new_list = [expression for element in old_list]\n",
    "```\n",
    "\n",
    "Here, `expression` is an expression that is applied to each element in `old_list` to create a new element in `new_list`. Let's look at an example:"
   ]
  },
  {
   "cell_type": "code",
   "execution_count": 7,
   "metadata": {},
   "outputs": [
    {
     "name": "stdout",
     "output_type": "stream",
     "text": [
      "[0, 1, 4, 9, 16]\n"
     ]
    }
   ],
   "source": [
    "squares = [x**2 for x in range(5)]\n",
    "\n",
    "print(squares)"
   ]
  },
  {
   "cell_type": "markdown",
   "metadata": {},
   "source": [
    "In this example, the list comprehension `[x**2 for x in range(5)]` creates a new list `squares` by squaring each element in the sequence `range(5)`.\n",
    "\n",
    "#### Looping Through a Dictionary\n",
    "\n",
    "A dictionary in Python is a collection of key-value pairs. You can loop through a dictionary using a `for` loop. Here's an example:"
   ]
  },
  {
   "cell_type": "code",
   "execution_count": 8,
   "metadata": {},
   "outputs": [
    {
     "name": "stdout",
     "output_type": "stream",
     "text": [
      "name Alice\n",
      "age 30\n",
      "city New York\n"
     ]
    }
   ],
   "source": [
    "person = {\"name\": \"Alice\", \"age\": 30, \"city\": \"New York\"}\n",
    "\n",
    "for key, value in person.items():\n",
    "    print(key, value)"
   ]
  },
  {
   "cell_type": "markdown",
   "metadata": {},
   "source": [
    "In this example, the `for` loop iterates over the key-value pairs in the dictionary `person`, and the block of code inside the `for` loop prints each key and value.\n",
    "\n",
    "#### Looping Through a NumPy Array\n",
    "\n",
    "You can also loop through a NumPy array using a `for` loop. Here's an example:"
   ]
  },
  {
   "cell_type": "code",
   "execution_count": 9,
   "metadata": {},
   "outputs": [
    {
     "name": "stdout",
     "output_type": "stream",
     "text": [
      "1\n",
      "2\n",
      "3\n",
      "4\n",
      "5\n"
     ]
    }
   ],
   "source": [
    "import numpy as np\n",
    "\n",
    "arr = np.array([1, 2, 3, 4, 5])\n",
    "\n",
    "for element in arr:\n",
    "    print(element)"
   ]
  },
  {
   "cell_type": "markdown",
   "metadata": {},
   "source": [
    "In this example, the `for` loop iterates over the elements in the NumPy array `arr`, and the block of code inside the `for` loop prints each element.\n",
    "\n",
    "#### Looping Through a Pandas DataFrame\n",
    "\n",
    "You can also loop through a Pandas DataFrame using a `for` loop. Here's an example:"
   ]
  },
  {
   "cell_type": "code",
   "execution_count": 10,
   "metadata": {},
   "outputs": [
    {
     "name": "stdout",
     "output_type": "stream",
     "text": [
      "0 Alice 30\n",
      "1 Bob 25\n",
      "2 Charlie 35\n"
     ]
    }
   ],
   "source": [
    "import pandas as pd\n",
    "\n",
    "data = {\"name\": [\"Alice\", \"Bob\", \"Charlie\"], \"age\": [30, 25, 35]}\n",
    "df = pd.DataFrame(data)\n",
    "\n",
    "for index, row in df.iterrows():\n",
    "    print(index, row[\"name\"], row[\"age\"])"
   ]
  },
  {
   "cell_type": "markdown",
   "metadata": {},
   "source": [
    "In this example, the `for` loop iterates over the rows in the Pandas DataFrame `df`, and the block of code inside the `for` loop prints the index, name, and age of each row.\n",
    "\n",
    "### 3.2 `while` loop\n",
    "\n",
    "The `while` loop is used to execute a block of code as long as a certain condition is true. The syntax of the `while` loop is as follows:\n",
    "\n",
    "```python\n",
    "while condition:\n",
    "    # block of code\n",
    "```\n",
    "\n",
    "Here, `condition` is an expression that evaluates to either `True` or `False`. The block of code inside the `while` loop is executed as long as the condition is `True`. If the condition is `False`, the loop is terminated.\n",
    "\n",
    "Let's look at an example:"
   ]
  },
  {
   "cell_type": "code",
   "execution_count": 11,
   "metadata": {},
   "outputs": [
    {
     "name": "stdout",
     "output_type": "stream",
     "text": [
      "0\n",
      "1\n",
      "2\n",
      "3\n",
      "4\n"
     ]
    }
   ],
   "source": [
    "i = 0\n",
    "\n",
    "while i < 5:\n",
    "    print(i)\n",
    "    i += 1"
   ]
  },
  {
   "cell_type": "markdown",
   "metadata": {},
   "source": [
    "In this example, the variable `i` is initialized to `0`. The `while` loop executes the block of code as long as `i` is less than `5`. The block of code prints the value of `i` and increments `i` by `1` in each iteration.\n",
    "\n",
    "## 4. Functions\n",
    "\n",
    "Functions are used to group a block of code that performs a specific task. Functions are defined using the `def` keyword, followed by the function name and a set of parentheses. The syntax of a function definition is as follows:\n",
    "\n",
    "```python\n",
    "def function_name(parameters):\n",
    "    # block of code\n",
    "    return value\n",
    "```\n",
    "\n",
    "Here, `function_name` is the name of the function, and `parameters` is a list of input parameters that the function takes. The block of code inside the function is executed when the function is called. The `return` statement is used to return a value from the function.\n",
    "\n",
    "Let's look at an example:"
   ]
  },
  {
   "cell_type": "code",
   "execution_count": 12,
   "metadata": {},
   "outputs": [
    {
     "name": "stdout",
     "output_type": "stream",
     "text": [
      "8\n"
     ]
    }
   ],
   "source": [
    "def add(x, y):\n",
    "    return x + y\n",
    "\n",
    "result = add(3, 5)\n",
    "print(result)"
   ]
  },
  {
   "cell_type": "markdown",
   "metadata": {},
   "source": [
    "In this example, we define a function `add` that takes two input parameters `x` and `y` and returns their sum. We call the function with the arguments `3` and `5`, and the result is stored in the variable `result`.\n",
    "\n",
    "Functions can also have default values for their parameters. If a parameter has a default value, it is optional to provide a value for that parameter when calling the function. Let's look at an example:"
   ]
  },
  {
   "cell_type": "code",
   "execution_count": 13,
   "metadata": {},
   "outputs": [
    {
     "name": "stdout",
     "output_type": "stream",
     "text": [
      "Hello, Alice\n"
     ]
    }
   ],
   "source": [
    "def greet(name=\"Alice\"):\n",
    "    return \"Hello, \" + name\n",
    "\n",
    "message = greet()\n",
    "print(message)"
   ]
  },
  {
   "cell_type": "markdown",
   "metadata": {},
   "source": [
    "In this example, we define a function `greet` that takes an input parameter `name` with a default value of `\"Alice\"`. If no value is provided for `name` when calling the function, it defaults to `\"Alice\"`. We call the function without providing a value for `name`, and the result is stored in the variable `message`.\n",
    "\n",
    "### 4.1 Lambda Functions\n",
    "\n",
    "Lambda functions are small anonymous functions that can have any number of arguments, but can only have one expression. Lambda functions are defined using the `lambda` keyword, followed by the list of arguments and the expression. The syntax of a lambda function is as follows:\n",
    "\n",
    "```python\n",
    "lambda arguments: expression\n",
    "```\n",
    "\n",
    "Lambda functions are often used as arguments to higher-order functions, such as `map()`, `filter()`, and `reduce()`. Let's look at an example:"
   ]
  },
  {
   "cell_type": "code",
   "execution_count": 14,
   "metadata": {},
   "outputs": [
    {
     "name": "stdout",
     "output_type": "stream",
     "text": [
      "8\n"
     ]
    }
   ],
   "source": [
    "add = lambda x, y: x + y\n",
    "\n",
    "result = add(3, 5)\n",
    "print(result)"
   ]
  },
  {
   "cell_type": "markdown",
   "metadata": {},
   "source": [
    "In this example, we define a lambda function `add` that takes two arguments `x` and `y` and returns their sum. We call the lambda function with the arguments `3` and `5`, and the result is stored in the variable `result`.\n",
    "\n",
    "#### Using Lambda Functions with Pandas\n",
    "\n",
    "Lambda functions are often used with Pandas to apply a function to each element in a column of a DataFrame. Let's look at an example:"
   ]
  },
  {
   "cell_type": "code",
   "execution_count": 15,
   "metadata": {},
   "outputs": [
    {
     "name": "stdout",
     "output_type": "stream",
     "text": [
      "      name  age  age_squared\n",
      "0    Alice   30          900\n",
      "1      Bob   25          625\n",
      "2  Charlie   35         1225\n"
     ]
    }
   ],
   "source": [
    "import pandas as pd\n",
    "\n",
    "data = {\"name\": [\"Alice\", \"Bob\", \"Charlie\"], \"age\": [30, 25, 35]}\n",
    "df = pd.DataFrame(data)\n",
    "\n",
    "df[\"age_squared\"] = df[\"age\"].apply(lambda x: x**2)\n",
    "\n",
    "print(df)"
   ]
  },
  {
   "cell_type": "markdown",
   "metadata": {},
   "source": [
    "In this example, we define a Pandas DataFrame `df` with columns `name` and `age`. We use the `apply()` method to apply a lambda function that squares each element in the `age` column. The result is stored in a new column `age_squared`.\n",
    "\n",
    "## Hands-on Practice\n",
    "\n",
    "Now that you have learned about control structures in Python, it's time to practice what you have learned. Here are a few exercises to help you get started:\n",
    "\n",
    "\n",
    "\n",
    "1. Write a Python program to check if a number is even or odd. (Hint: Use the modulo operator `%` to check if a number is divisible by `2`. The modulo operator returns the remainder of the division.)\n",
    "2. Write a Python program to find the sum of all numbers in a list.\n",
    "3. Write a Python program to find the factorial of a number.\n",
    "4. Write a Python program to check if a string is a palindrome.\n",
    "5. Write a Python program to find the maximum and minimum elements in a list.\n",
    "\n",
    "Feel free to explore more exercises and practice your Python skills. Good luck!"
   ]
  },
  {
   "cell_type": "markdown",
   "metadata": {},
   "source": [
    "## Hands-on Practice\n",
    "\n",
    "Now that you have learned about control structures in Python, it's time to practice what you have learned. Here are a few exercises to help you get started:\n",
    "\n",
    "<details>\n",
    "<summary>Hint for Exercise 1</summary>\n",
    "Use the modulo operator `%` to check if a number is divisible by `2`. The modulo operator returns the remainder of the division.\n",
    "</details>\n",
    "\n",
    "1. Write a Python program to check if a number is even or odd.\n",
    "2. Write a Python program to find the sum of all numbers in a list.\n",
    "3. Write a Python program to find the factorial of a number.\n",
    "4. Write a Python program to check if a string is a palindrome.\n",
    "5. Write a Python program to find the maximum and minimum elements in a list.\n",
    "\n",
    "Feel free to explore more exercises and practice your Python skills. Good luck!"
   ]
  },
  {
   "cell_type": "markdown",
   "metadata": {},
   "source": []
  }
 ],
 "metadata": {
  "kernelspec": {
   "display_name": "comp-prob-solv",
   "language": "python",
   "name": "python3"
  },
  "language_info": {
   "codemirror_mode": {
    "name": "ipython",
    "version": 3
   },
   "file_extension": ".py",
   "mimetype": "text/x-python",
   "name": "python",
   "nbconvert_exporter": "python",
   "pygments_lexer": "ipython3",
   "version": "3.10.14"
  }
 },
 "nbformat": 4,
 "nbformat_minor": 2
}
