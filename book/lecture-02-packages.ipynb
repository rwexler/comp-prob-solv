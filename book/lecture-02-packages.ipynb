{
 "cells": [
  {
   "cell_type": "markdown",
   "metadata": {},
   "source": [
    "# Lecture 2: Key Python Packages and Their Main Features\n",
    "\n",
    "One of the reasons this course is based on Python is the rich library of packages available for the chemical sciences. While we cannot cover them all, we will introduce some of the most important ones. In this lecture, we will cover the following packages:\n",
    "\n",
    "- NumPy: numerical computing in Python\n",
    "- SciPy: scientific computing in Python\n",
    "- Matplotlib: plotting in Python\n",
    "- Pandas: data manipulation in Python\n",
    "\n",
    "## NumPy\n",
    "\n",
    "NumPy is the fundamental package for scientific computing in Python. It provides support for large, multi-dimensional arrays and matrices, along with a collection of mathematical functions to operate on these arrays. NumPy is the foundation of many other packages in the scientific Python ecosystem, including SciPy, Matplotlib, and Pandas.\n",
    "\n",
    "### Key Features\n",
    "\n",
    "- A powerful N-dimensional array object (e.g., vectors, matrices, etc.)\n",
    "- Sophisticated (broadcasting) functions (e.g., element-wise operations)\n",
    "- Useful linear algebra, Fourier transform, and random number capabilities\n",
    "\n",
    "### NumPy Arrays\n",
    "\n",
    "NumPy arrays are the core data structure for NumPy. They are similar to Python lists but with additional features. Vectors play an important role in the chemical sciences, representing the three-dimensional positions and momenta of atoms, the orientation of electric dipoles, and the components of magnetic fields, to name a few examples. We can represent a three-dimensional vector as a NumPy array with three elements."
   ]
  },
  {
   "cell_type": "code",
   "execution_count": 1,
   "metadata": {},
   "outputs": [
    {
     "name": "stdout",
     "output_type": "stream",
     "text": [
      "[1 2 3]\n"
     ]
    }
   ],
   "source": [
    "import numpy as np\n",
    "\n",
    "# Create a 3D vector\n",
    "v = np.array([1, 2, 3])\n",
    "\n",
    "print(v)"
   ]
  },
  {
   "cell_type": "markdown",
   "metadata": {},
   "source": [
    "Matrices are also a fundamental data structure in the chemical sciences, for example, to represent the Hamiltonian matrix of a molecule or a system of linears equations for balancing the stoichiometry of a chemical reaction (when doing so by hand is too arduous). We can represent a 2x2 matrix as a NumPy array with four elements."
   ]
  },
  {
   "cell_type": "code",
   "execution_count": 3,
   "metadata": {},
   "outputs": [
    {
     "name": "stdout",
     "output_type": "stream",
     "text": [
      "[[1 2]\n",
      " [3 4]]\n"
     ]
    }
   ],
   "source": [
    "# Create a 2x2 matrix\n",
    "M = np.array([[1, 2], [3, 4]])\n",
    "\n",
    "print(M)"
   ]
  },
  {
   "cell_type": "markdown",
   "metadata": {},
   "source": [
    "In quantum chemistry, we often have to multiple matrices and vectors. NumPy provides convenience functions for these operations."
   ]
  },
  {
   "cell_type": "code",
   "execution_count": 4,
   "metadata": {},
   "outputs": [
    {
     "name": "stdout",
     "output_type": "stream",
     "text": [
      "[ 5 11]\n"
     ]
    }
   ],
   "source": [
    "# Create a 2x2 matrix\n",
    "M = np.array([[1, 2], [3, 4]])\n",
    "\n",
    "# Create a 2D vector\n",
    "v = np.array([1, 2])\n",
    "\n",
    "# Multiply the matrix by the vector\n",
    "w = M @ v\n",
    "\n",
    "print(w)"
   ]
  },
  {
   "cell_type": "markdown",
   "metadata": {},
   "source": [
    "```{admonition} Reminder\n",
    ":class: tip\n",
    "For matrix multiplication, the resultant array's shape is the product of the input arrays' shapes. For example, if `A` is an array with shape `(m, n)` and `B` is an array with shape `(n, p)`, the shape of the resultant array `C = A @ B` will be `(m, p)`.\n",
    "```\n",
    "\n",
    "We also may want to compute the dot product of two vectors, which also finds applications in quantum chemistry, e.g., in the computation of orthonormality conditions."
   ]
  },
  {
   "cell_type": "code",
   "execution_count": 5,
   "metadata": {},
   "outputs": [
    {
     "name": "stdout",
     "output_type": "stream",
     "text": [
      "32\n"
     ]
    }
   ],
   "source": [
    "# Create two 3D vectors\n",
    "v = np.array([1, 2, 3])\n",
    "w = np.array([4, 5, 6])\n",
    "\n",
    "# Compute the dot product\n",
    "dot_product = np.dot(v, w)\n",
    "\n",
    "print(dot_product)"
   ]
  },
  {
   "cell_type": "markdown",
   "metadata": {},
   "source": [
    "Given the importance of matrices in quantum chemistry and any problem in chemical science that involves solving a set of linear equations, NumPy provides a variety of functions for matrix operations, such as computing the determinant, inverse, and eigenvalues."
   ]
  },
  {
   "cell_type": "code",
   "execution_count": 7,
   "metadata": {},
   "outputs": [
    {
     "name": "stdout",
     "output_type": "stream",
     "text": [
      "det(M) = -2.0000000000000004\n",
      "M_inv = [[-2.   1. ]\n",
      " [ 1.5 -0.5]]\n",
      "eigenvalues = [-0.37228132  5.37228132]\n"
     ]
    }
   ],
   "source": [
    "# Create a 2x2 matrix\n",
    "M = np.array([[1, 2], [3, 4]])\n",
    "\n",
    "# Compute the determinant\n",
    "det = np.linalg.det(M)\n",
    "\n",
    "print(f\"det(M) = {det}\")\n",
    "\n",
    "# Create a 2x2 matrix\n",
    "M = np.array([[1, 2], [3, 4]])\n",
    "\n",
    "# Compute the inverse\n",
    "M_inv = np.linalg.inv(M)\n",
    "\n",
    "print(f\"M_inv = {M_inv}\")\n",
    "\n",
    "# Create a 2x2 matrix\n",
    "M = np.array([[1, 2], [3, 4]])\n",
    "\n",
    "# Compute the eigenvalues\n",
    "eigenvalues = np.linalg.eigvals(M)\n",
    "\n",
    "print(f\"eigenvalues = {eigenvalues}\")"
   ]
  },
  {
   "cell_type": "markdown",
   "metadata": {},
   "source": [
    "NumPy also provides functions for generating arrays with specific properties, such as zeros, ones, and random numbers."
   ]
  },
  {
   "cell_type": "code",
   "execution_count": 9,
   "metadata": {},
   "outputs": [
    {
     "name": "stdout",
     "output_type": "stream",
     "text": [
      "[[0. 0. 0.]\n",
      " [0. 0. 0.]\n",
      " [0. 0. 0.]]\n",
      "[[1. 1. 1.]\n",
      " [1. 1. 1.]\n",
      " [1. 1. 1.]]\n",
      "[[0.57351901 0.86424895 0.03250805]\n",
      " [0.30478373 0.73650358 0.19365784]\n",
      " [0.71892884 0.23067657 0.3317172 ]]\n"
     ]
    }
   ],
   "source": [
    "# Create a 3x3 array of zeros\n",
    "A = np.zeros((3, 3))\n",
    "\n",
    "print(A)\n",
    "\n",
    "# Create a 3x3 array of ones\n",
    "A = np.ones((3, 3))\n",
    "\n",
    "print(A)\n",
    "\n",
    "# Create a 3x3 array of random numbers\n",
    "A = np.random.rand(3, 3)\n",
    "\n",
    "print(A)"
   ]
  },
  {
   "cell_type": "markdown",
   "metadata": {},
   "source": [
    "```{admonition} Exercise\n",
    ":class: exercise\n",
    "Create a 3x3 matrix with random integers between 0 and 9.\n",
    "```\n",
    "\n",
    "```{admonition} Exercise\n",
    ":class: exercise\n",
    "Create a 3x3 identity matrix.\n",
    "```\n",
    "\n",
    "## SciPy\n",
    "\n",
    "We aren't going to dive too much into SciPy in this lecture, but we will return to it periodically throughout this course as it provides us elegant solutions for complex codes. Ultimately, I think it's important to learn how to build the codes from scratch before using SciPy, but it's a great tool to have in your toolbox.\n",
    "\n",
    "### Key Features\n",
    "\n",
    "- Optimization (e.g., finding the minimum of a function, see Lecture 4)\n",
    "- Integration (e.g., computing definite integrals, see Lecture 5)\n",
    "- Fourier Transforms (e.g., analyzing signals)\n",
    "- And much [more](https://docs.scipy.org/doc/scipy/index.html)!\n",
    "\n",
    "## Matplotlib\n",
    "\n",
    "Matplotlib is a plotting library for Python that produces publication-quality figures in a variety of formats and interactive environments across platforms. Matplotlib can be used to generate plots, histograms, power spectra, bar charts, error charts, scatterplots, etc., with just a few lines of code. As a starting point, I really like this \"Anatomy of a Figure\" graphic from the Matplotlib documentation: [Anatomy of a Figure](https://matplotlib.org/stable/users/explain/quick_start.html#parts-of-a-figure). A lot of what we'll want to do in this course can be solved using this graphic as a reference.\n",
    "\n",
    "### Key Features\n",
    "\n",
    "- Create a wide range of plots, including line plots, scatter plots, histograms, bar charts, etc.\n",
    "- Customize plots with a wide range of options, such as colors, line styles, and marker styles.\n",
    "- Save plots in a variety of formats, such as PNG, PDF, and SVG.\n",
    "\n",
    "### Scatter Plots\n",
    "\n",
    "Scatter plots are a great way to visualize data points in two dimensions. We can use Matplotlib to create scatter plots of NumPy arrays."
   ]
  },
  {
   "cell_type": "code",
   "execution_count": 10,
   "metadata": {},
   "outputs": [
    {
     "data": {
      "image/png": "[encoded data removed]",
      "text/plain": [
       "<Figure size 640x480 with 1 Axes>"
      ]
     },
     "metadata": {},
     "output_type": "display_data"
    }
   ],
   "source": [
    "import matplotlib.pyplot as plt\n",
    "\n",
    "# Create random data\n",
    "x = np.random.rand(100)\n",
    "y = np.random.rand(100)\n",
    "\n",
    "# Create a scatter plot\n",
    "plt.scatter(x, y)\n",
    "plt.show()"
   ]
  },
  {
   "cell_type": "markdown",
   "metadata": {},
   "source": [
    "### Line Plots\n",
    "\n",
    "Line plots are another common way to visualize data. We can use Matplotlib to create line plots of NumPy arrays."
   ]
  },
  {
   "cell_type": "code",
   "execution_count": 11,
   "metadata": {},
   "outputs": [
    {
     "data": {
      "image/png": "[encoded data removed]",
      "text/plain": [
       "<Figure size 640x480 with 1 Axes>"
      ]
     },
     "metadata": {},
     "output_type": "display_data"
    }
   ],
   "source": [
    "# Create random data\n",
    "x = np.linspace(0, 10, 100)\n",
    "y = np.sin(x)\n",
    "\n",
    "# Create a line plot\n",
    "plt.plot(x, y)\n",
    "plt.show()"
   ]
  },
  {
   "cell_type": "markdown",
   "metadata": {},
   "source": [
    "### Histograms\n",
    "\n",
    "Histograms are useful for visualizing the distribution of data. We can use Matplotlib to create histograms of NumPy arrays."
   ]
  },
  {
   "cell_type": "code",
   "execution_count": 12,
   "metadata": {},
   "outputs": [
    {
     "data": {
      "image/png": "[encoded data removed]",
      "text/plain": [
       "<Figure size 640x480 with 1 Axes>"
      ]
     },
     "metadata": {},
     "output_type": "display_data"
    }
   ],
   "source": [
    "# Create random data\n",
    "data = np.random.randn(1000)\n",
    "\n",
    "# Create a histogram\n",
    "plt.hist(data, bins=30)\n",
    "plt.show()"
   ]
  },
  {
   "cell_type": "markdown",
   "metadata": {},
   "source": [
    "### Customizing Plots\n",
    "\n",
    "Matplotlib provides a wide range of options for customizing plots, such as changing the color, line style, and marker style."
   ]
  },
  {
   "cell_type": "code",
   "execution_count": 13,
   "metadata": {},
   "outputs": [
    {
     "data": {
      "image/png": "[encoded data removed]",
      "text/plain": [
       "<Figure size 640x480 with 1 Axes>"
      ]
     },
     "metadata": {},
     "output_type": "display_data"
    }
   ],
   "source": [
    "# Create random data\n",
    "x = np.linspace(0, 10, 100)\n",
    "y = np.sin(x)\n",
    "\n",
    "# Create a line plot with customizations\n",
    "plt.plot(x, y, color='red', linestyle='--', marker='o', label='sin(x)')\n",
    "plt.xlabel('x')\n",
    "plt.ylabel('y')\n",
    "plt.title('Sine Function')\n",
    "plt.legend()\n",
    "plt.show()"
   ]
  },
  {
   "cell_type": "markdown",
   "metadata": {},
   "source": [
    "```{admonition} Exercise\n",
    ":class: exercise\n",
    "Create a scatter plot of random data with customizations (e.g., color, marker style, etc.).\n",
    "```\n",
    "\n",
    "```{admonition} Exercise\n",
    ":class: exercise\n",
    "Create a histogram of random data with customizations (e.g., color, number of bins, etc.).\n",
    "```\n",
    "\n",
    "## Pandas\n",
    "\n",
    "I like to think of Pandas as Excel on Python. In fact, you can read in Excel files using Pandas! Pandas is a powerful data manipulation library for Python that provides data structures and functions to work with structured data. It is built on top of NumPy and is particularly useful for working with tabular data, such as spreadsheets and databases.\n",
    "\n",
    "### Key Features\n",
    "\n",
    "- Data structures for working with labeled data, such as Series (1D) and DataFrame (2D).\n",
    "- Powerful functions for data manipulation, such as filtering, grouping, and merging.\n",
    "- Tools for reading and writing data in a variety of formats, such as CSV, Excel, and SQL databases.\n",
    "\n",
    "### Series\n",
    "\n",
    "A Series is a one-dimensional labeled array that can hold any data type (e.g., integers, strings, etc.). We can create a Series from a NumPy array."
   ]
  },
  {
   "cell_type": "code",
   "execution_count": 14,
   "metadata": {},
   "outputs": [
    {
     "name": "stdout",
     "output_type": "stream",
     "text": [
      "0   -0.491474\n",
      "1    0.666469\n",
      "2   -0.851802\n",
      "3    0.814101\n",
      "4    1.647108\n",
      "dtype: float64\n"
     ]
    }
   ],
   "source": [
    "import pandas as pd\n",
    "\n",
    "# Create a Series from a NumPy array\n",
    "s = pd.Series(np.random.randn(5))\n",
    "\n",
    "print(s)"
   ]
  },
  {
   "cell_type": "markdown",
   "metadata": {},
   "source": [
    "The first column in this series is the index, which is a unique identifier for each row. The second column is the data, which can be any data type. Note that, in Python, the index starts at 0. This is called a \"zero-based index.\"\n",
    "\n",
    "### DataFrame\n",
    "\n",
    "A DataFrame is a two-dimensional labeled data structure with columns of potentially different types. We can create a DataFrame from a dictionary of NumPy arrays."
   ]
  },
  {
   "cell_type": "code",
   "execution_count": 15,
   "metadata": {},
   "outputs": [
    {
     "name": "stdout",
     "output_type": "stream",
     "text": [
      "          A         B\n",
      "0 -0.368412  0.839094\n",
      "1 -0.414664  0.231718\n",
      "2  0.742324  0.653954\n",
      "3 -0.117818  0.046873\n",
      "4 -1.471553  0.741655\n"
     ]
    }
   ],
   "source": [
    "# Create a DataFrame from a dictionary of NumPy arrays\n",
    "data = {\n",
    "    'A': np.random.randn(5),\n",
    "    'B': np.random.rand(5)\n",
    "}\n",
    "\n",
    "df = pd.DataFrame(data)\n",
    "\n",
    "print(df)"
   ]
  },
  {
   "cell_type": "markdown",
   "metadata": {},
   "source": [
    "Imagine that the index column and the top row are the indices in your Excel spreadsheet. The DataFrame can free you from the shackles of Excel and allow you to manipulate data in a more efficient and powerful way.\n",
    "\n",
    "### Reading and Writing Data\n",
    "\n",
    "Pandas provides functions for reading and writing data in a variety of formats, such as CSV, Excel, and SQL databases."
   ]
  },
  {
   "cell_type": "code",
   "execution_count": 16,
   "metadata": {},
   "outputs": [
    {
     "name": "stdout",
     "output_type": "stream",
     "text": [
      "      Element  Per Mole  Per Atom Per Mole Unit Per Atom Unit\n",
      "0    Actinium    410.00      4.25        kJ/mol       eV/atom\n",
      "1    Aluminum    327.00      3.39        kJ/mol       eV/atom\n",
      "2   Americium    264.00      2.73        kJ/mol       eV/atom\n",
      "3    Antimony    265.00      2.75        kJ/mol       eV/atom\n",
      "4       Argon      7.74      0.08        kJ/mol       eV/atom\n",
      "..        ...       ...       ...           ...           ...\n",
      "85      Xenon     15.90      0.16        kJ/mol       eV/atom\n",
      "86  Ytterbium    154.00      1.60        kJ/mol       eV/atom\n",
      "87    Yttrium    422.00      4.37        kJ/mol       eV/atom\n",
      "88       Zinc    130.00      1.35        kJ/mol       eV/atom\n",
      "89  Zirconium    603.00      6.25        kJ/mol       eV/atom\n",
      "\n",
      "[90 rows x 5 columns]\n"
     ]
    }
   ],
   "source": [
    "# Read data from a CSV file\n",
    "df = pd.read_csv('data.csv')\n",
    "\n",
    "print(df)"
   ]
  },
  {
   "cell_type": "markdown",
   "metadata": {},
   "source": [
    "This is a data set compiled as part of a paper from the Wexler group. It contains the element names and their cohesive energies (i.e., the energy required to separate the atoms in a solid to an infinite distance) in two different units of kJ/mol and eV/atom. You could also write this data to a CSV file using the `to_csv` method and setting the `index` parameter to `False` (to avoid writing the index column).\n",
    "\n",
    "```{admonition} Exercise\n",
    ":class: exercise\n",
    "Create a DataFrame from a dictionary of NumPy arrays and write it to a CSV file.\n",
    "```\n",
    "\n",
    "```{admonition} Exercise\n",
    ":class: exercise\n",
    "Read data from a CSV file and create a DataFrame.\n",
    "```\n",
    "\n",
    "### Filtering Data\n",
    "\n",
    "Pandas provides functions for filtering data based on conditions. For example, we can filter the DataFrame to show only the rows where the cohesive energy is less than 100 kJ/mol but greater than 50 kJ/mol."
   ]
  },
  {
   "cell_type": "code",
   "execution_count": 17,
   "metadata": {},
   "outputs": [
    {
     "name": "stdout",
     "output_type": "stream",
     "text": [
      "      Element  Per Mole  Per Atom Per Mole Unit Per Atom Unit\n",
      "15     Cesium      77.6     0.804        kJ/mol       eV/atom\n",
      "24   Fluorine      81.0     0.840        kJ/mol       eV/atom\n",
      "42    Mercury      65.0     0.670        kJ/mol       eV/atom\n",
      "57  Potassium      90.1     0.934        kJ/mol       eV/atom\n",
      "63   Rubidium      82.2     0.852        kJ/mol       eV/atom\n"
     ]
    }
   ],
   "source": [
    "# Filter rows where the cohesive energy is less than 100 kJ/mol but greater than 50 kJ/mol\n",
    "filtered_df = df[(df['Per Mole'] > 50) & (df['Per Mole'] < 100)]\n",
    "\n",
    "print(filtered_df)"
   ]
  },
  {
   "cell_type": "markdown",
   "metadata": {},
   "source": [
    "```{admonition} Question\n",
    ":class: tip\n",
    "Are you surprised to see these elements in the filtered data set?\n",
    "```"
   ]
  },
  {
   "cell_type": "markdown",
   "metadata": {},
   "source": []
  }
 ],
 "metadata": {
  "kernelspec": {
   "display_name": "comp-prob-solv",
   "language": "python",
   "name": "python3"
  },
  "language_info": {
   "codemirror_mode": {
    "name": "ipython",
    "version": 3
   },
   "file_extension": ".py",
   "mimetype": "text/x-python",
   "name": "python",
   "nbconvert_exporter": "python",
   "pygments_lexer": "ipython3",
   "version": "3.12.4"
  }
 },
 "nbformat": 4,
 "nbformat_minor": 2
}
