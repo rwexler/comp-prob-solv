{
 "cells": [
  {
   "cell_type": "markdown",
   "metadata": {},
   "source": [
    "# Module 1: Introduction to Python Computations\n",
    "\n",
    "## 1.1: Introduction to Python\n",
    "\n",
    "Python is a high-level, interpreted, and general-purpose programming language. It was created by Guido van Rossum and released in 1991. Python is known for its simplicity and readability. It is widely used in various fields such as web development, data science, machine learning, artificial intelligence, and scientific computing.\n",
    "\n",
    "Python has a large standard library that provides a wide range of modules and packages for different tasks. It also has a vibrant community that contributes to the development of libraries and frameworks, making Python a popular choice for many programmers.\n",
    "\n",
    "In this module, we will introduce you to Python and its basic syntax. We will cover the following topics:\n",
    "\n",
    "- Python installation and setup\n",
    "- Python data types\n",
    "- Variables and operators\n",
    "- Control flow statements\n",
    "- Functions and modules\n",
    "- Input and output operations\n",
    "\n",
    "Let's get started!\n",
    "\n",
    "## 1.2: Python Installation and Setup\n",
    "\n",
    "Before you start writing Python code, you need to install Python on your system. Python is available for different operating systems such as Windows, macOS, and Linux. You can download the latest version of Python from the official website (https://www.python.org/downloads/).\n",
    "\n",
    "Once you have installed Python on your system, you can start writing Python code using an Integrated Development Environment (IDE) or a code editor. Some popular IDEs for Python development are:\n",
    "\n",
    "- PyCharm\n",
    "- Visual Studio Code\n",
    "- Jupyter Notebook\n",
    "- Spyder\n",
    "- IDLE (Python's Integrated Development and Learning Environment)\n",
    "\n",
    "You can choose any of these IDEs based on your preference and start writing Python code.\n",
    "\n",
    "```{note}\n",
    "In this course, we will be using Visual Studio Code as the primary IDE for Python development. You can download Visual Studio Code from the official website (https://code.visualstudio.com/).\n",
    "```\n",
    "\n",
    "## 1.3: Python Data Types\n",
    "\n",
    "Python has several built-in data types that are used to store and manipulate data. Some of the common data types in Python are:\n",
    "\n",
    "- Integer (`int`): Represents whole numbers without any decimal point.\n",
    "- Float (`float`): Represents real numbers with a decimal point.\n",
    "- String (`str`): Represents a sequence of characters enclosed in single or double quotes.\n",
    "- Boolean (`bool`): Represents a boolean value (`True` or `False`).\n",
    "\n",
    "Let's look at some examples of these data types in Python:"
   ]
  },
  {
   "cell_type": "code",
   "execution_count": 1,
   "metadata": {},
   "outputs": [
    {
     "name": "stdout",
     "output_type": "stream",
     "text": [
      "Atomic number of Neon: 10\n",
      "Atomic mass of Neon: 20.18\n",
      "Element name: Neon\n",
      "Is Neon a gas at room temperature? True\n"
     ]
    }
   ],
   "source": [
    "# Atomic number (integer)\n",
    "atomic_number = 10  # Neon\n",
    "print(\"Atomic number of Neon:\", atomic_number)\n",
    "\n",
    "# Atomic mass (float)\n",
    "atomic_mass = 20.18  # Neon\n",
    "print(\"Atomic mass of Neon:\", atomic_mass)\n",
    "\n",
    "# Chemical element (string)\n",
    "element_name = \"Neon\"\n",
    "print(\"Element name:\", element_name)\n",
    "\n",
    "# Element is a gas at room temperature (boolean)\n",
    "is_gas_at_room_temp = True\n",
    "print(\"Is Neon a gas at room temperature?\", is_gas_at_room_temp)"
   ]
  },
  {
   "cell_type": "markdown",
   "metadata": {},
   "source": [
    "In Python, you can use the `type()` function to check the data type of a variable. For example:"
   ]
  },
  {
   "cell_type": "code",
   "execution_count": 2,
   "metadata": {},
   "outputs": [
    {
     "name": "stdout",
     "output_type": "stream",
     "text": [
      "Type of atomic number: <class 'int'>\n",
      "Type of atomic mass: <class 'float'>\n",
      "Type of chemical formula: <class 'str'>\n",
      "Type of is_compound: <class 'bool'>\n"
     ]
    }
   ],
   "source": [
    "# Atomic number of Neon (integer)\n",
    "atomic_number = 10\n",
    "print(\"Type of atomic number:\", type(atomic_number))  # Output: <class 'int'>\n",
    "\n",
    "# Atomic mass of Hydrogen (float)\n",
    "atomic_mass = 1.008\n",
    "print(\"Type of atomic mass:\", type(atomic_mass))  # Output: <class 'float'>\n",
    "\n",
    "# Chemical formula for water (string)\n",
    "chemical_formula = \"H2O\"\n",
    "print(\"Type of chemical formula:\", type(chemical_formula))  # Output: <class 'str'>\n",
    "\n",
    "# Water is a compound (boolean)\n",
    "is_compound = True\n",
    "print(\"Type of is_compound:\", type(is_compound))  # Output: <class 'bool'>"
   ]
  },
  {
   "cell_type": "markdown",
   "metadata": {},
   "source": [
    "## 1.4: Variables and Operators\n",
    "\n",
    "In Python, variables are used to store data values. You can assign a value to a variable using the assignment operator (`=`). Variables can store different types of data such as integers, floats, strings, and booleans.\n",
    "\n",
    "Python supports various operators that are used to perform arithmetic, comparison, logical, and assignment operations. Some of the common operators in Python are:\n",
    "\n",
    "- Arithmetic operators: `+`, `-`, `*`, `/`, `%`, `//`, `**`\n",
    "- Comparison operators: `==`, `!=`, `>`, `<`, `>=`, `<=`\n",
    "- Logical operators: `and`, `or`, `not`\n",
    "- Assignment operators: `=`, `+=`, `-=`, `*=`, `/=`, `%=`\n",
    "\n",
    "Let's look at some examples of variables and operators in Python:"
   ]
  },
  {
   "cell_type": "code",
   "execution_count": 3,
   "metadata": {},
   "outputs": [],
   "source": [
    "# Assigning values to variables\n",
    "x = 10\n",
    "y = 20.18\n",
    "name = \"Neon\"\n",
    "\n",
    "# Arithmetic operators\n",
    "summation = x + y\n",
    "difference = x - y\n",
    "product = x * y\n",
    "quotient = x / y\n",
    "remainder = x % y\n",
    "floor_division = x // y\n",
    "power = x ** 2\n",
    "\n",
    "# Comparison operators\n",
    "is_equal = x == y\n",
    "is_not_equal = x != y\n",
    "is_greater = x > y\n",
    "is_less = x < y\n",
    "is_greater_equal = x >= y\n",
    "is_less_equal = x <= y\n",
    "\n",
    "# Logical operators\n",
    "and_result = (x > 0) and (y < 0)\n",
    "or_result = (x > 0) or (y < 0)\n",
    "not_result = not (x > 0)\n",
    "\n",
    "# Assignment operators\n",
    "x += 1\n",
    "y -= 1"
   ]
  },
  {
   "cell_type": "markdown",
   "metadata": {},
   "source": [
    "## 1.5: Control Flow Statements\n",
    "\n",
    "Control flow statements are used to control the flow of execution in a program. Python supports various control flow statements such as:\n",
    "\n",
    "- Conditional statements (`if`, `elif`, `else`): Used to execute different blocks of code based on certain conditions.\n",
    "- Loop statements (`for`, `while`): Used to iterate over a sequence of elements or execute a block of code repeatedly.\n",
    "- Break and continue statements: Used to alter the flow of execution in loops.\n",
    "- Pass statement: Used as a placeholder when no action is required.\n",
    "\n",
    "Let's look at some examples of control flow statements in Python:"
   ]
  },
  {
   "cell_type": "code",
   "execution_count": 4,
   "metadata": {},
   "outputs": [
    {
     "name": "stdout",
     "output_type": "stream",
     "text": [
      "Conditional statements for pH values\n",
      "Neutral solution\n",
      "\n",
      "Loop statements for first five elements\n",
      "Hydrogen\n",
      "Helium\n",
      "Lithium\n",
      "Beryllium\n",
      "Boron\n",
      "\n",
      "Break statements in a reaction sequence\n",
      "Reaction step 1 completed\n",
      "Reaction step 2 completed\n",
      "Reaction step 3 completed\n",
      "Reaction step 4 completed\n",
      "Reaction step 5 completed\n",
      "Reaction stopped at step 6\n",
      "\n",
      "Continue statements in element listing\n",
      "Element with atomic number 1\n",
      "Element with atomic number 2\n",
      "Element with atomic number 3\n",
      "Element with atomic number 5\n",
      "Element with atomic number 6\n",
      "Element with atomic number 7\n",
      "Element with atomic number 9\n",
      "Element with atomic number 10\n",
      "\n",
      "Pass statement in theoretical reactions\n"
     ]
    }
   ],
   "source": [
    "# Conditional statements for pH values\n",
    "print(\"Conditional statements for pH values\")\n",
    "pH = 7\n",
    "if pH > 7:\n",
    "    print(\"Basic solution\")\n",
    "elif pH < 7:\n",
    "    print(\"Acidic solution\")\n",
    "else:\n",
    "    print(\"Neutral solution\")\n",
    "print()\n",
    "\n",
    "# Loop statements for listing first five elements\n",
    "print(\"Loop statements for first five elements\")\n",
    "elements = [\"Hydrogen\", \"Helium\", \"Lithium\", \"Beryllium\", \"Boron\"]\n",
    "for element in elements:\n",
    "    print(element)\n",
    "print()\n",
    "\n",
    "# Break statements in a reaction sequence\n",
    "print(\"Break statements in a reaction sequence\")\n",
    "for i in range(1, 11):\n",
    "    if i == 6:  # Suppose a reaction is not favorable after a certain step\n",
    "        print(\"Reaction stopped at step\", i)\n",
    "        break\n",
    "    print(\"Reaction step\", i, \"completed\")\n",
    "print()\n",
    "\n",
    "# Continue statements in element listing\n",
    "print(\"Continue statements in element listing\")\n",
    "for i in range(10):\n",
    "    if i == 3 or i == 7:  # Skipping elements at positions 3 and 7\n",
    "        continue\n",
    "    print(\"Element with atomic number\", i + 1)\n",
    "print()\n",
    "\n",
    "# Pass statement in theoretical reactions\n",
    "print(\"Pass statement in theoretical reactions\")\n",
    "for i in range(5):\n",
    "    # Assume placeholder for future reaction conditions to be tested\n",
    "    pass"
   ]
  },
  {
   "cell_type": "markdown",
   "metadata": {},
   "source": [
    "## 1.6: Functions and Modules\n",
    "\n",
    "Functions are reusable blocks of code that perform a specific task. They help in organizing code and making it more modular. In Python, you can define a function using the `def` keyword followed by the function name and parameters.\n",
    "\n",
    "Modules are files that contain Python code. They are used to organize related functions, classes, and variables. You can import a module in your Python script using the `import` statement.\n",
    "\n",
    "Let's look at some examples of functions and modules in Python:"
   ]
  },
  {
   "cell_type": "code",
   "execution_count": 5,
   "metadata": {},
   "outputs": [
    {
     "name": "stdout",
     "output_type": "stream",
     "text": [
      "Molarity of the solution: 0.5 M\n",
      "Avogadro's constant: 6.02214076e+23\n"
     ]
    }
   ],
   "source": [
    "# Define a function to calculate molarity\n",
    "def calculate_molarity(moles, volume_liters):\n",
    "    return moles / volume_liters\n",
    "\n",
    "# Call the function\n",
    "print(\"Molarity of the solution:\", calculate_molarity(1, 2), \"M\")\n",
    "\n",
    "# Import a module for scientific calculations\n",
    "import scipy.constants\n",
    "\n",
    "# Use a function from the scipy.constants module to print the Avogadro constant\n",
    "print(\"Avogadro's constant:\", scipy.constants.Avogadro)"
   ]
  },
  {
   "cell_type": "markdown",
   "metadata": {},
   "source": [
    "## 1.7: Plotting with Matplotlib\n",
    "\n",
    "Matplotlib is a popular plotting library for Python that provides a wide range of functions for creating different types of plots such as line plots, bar plots, scatter plots, histograms, and more. It is widely used in data visualization and scientific computing.\n",
    "\n",
    "To use Matplotlib, you need to import the `matplotlib.pyplot` module. You can then use various functions provided by Matplotlib to create and customize plots.\n",
    "\n",
    "Let's look at an example of plotting with Matplotlib:\n",
    "\n",
    "In this example, we import the `matplotlib.pyplot` module and create a line plot using the `plot()` function. We then add labels and a title to the plot using the `xlabel()`, `ylabel()`, and `title()` functions. Finally, we display the plot using the `show()` function."
   ]
  },
  {
   "cell_type": "code",
   "execution_count": 6,
   "metadata": {},
   "outputs": [
    {
     "data": {
      "image/png": "[encoded data removed]",
      "text/plain": [
       "<Figure size 640x480 with 1 Axes>"
      ]
     },
     "metadata": {},
     "output_type": "display_data"
    }
   ],
   "source": [
    "import matplotlib.pyplot as plt\n",
    "\n",
    "# Create data: Atomic numbers and boiling points of some common elements (in Kelvin)\n",
    "atomic_numbers = [1, 2, 3, 4, 5]  # Hydrogen, Helium, Lithium, Beryllium, Boron\n",
    "boiling_points = [20.28, 4.22, 1560, 2742, 4200]  # Boiling points in Kelvin\n",
    "\n",
    "# Create a line plot of boiling points\n",
    "plt.plot(atomic_numbers, boiling_points, marker='o')  # Added marker for clarity\n",
    "\n",
    "# Add labels and title\n",
    "plt.xlabel('Atomic Number')\n",
    "plt.ylabel('Boiling Point (K)')\n",
    "plt.title('Boiling Points of Elements')\n",
    "\n",
    "# Display the plot\n",
    "plt.show()"
   ]
  },
  {
   "cell_type": "markdown",
   "metadata": {},
   "source": [
    "## 1.8: NumPy and Pandas\n",
    "\n",
    "NumPy is a powerful library for numerical computing in Python. It provides support for multidimensional arrays, mathematical functions, linear algebra operations, random number generation, and more. NumPy is widely used in scientific computing, data analysis, and machine learning.\n",
    "\n",
    "Pandas is a data manipulation library for Python that provides data structures such as Series and DataFrame to work with structured data. It is built on top of NumPy and provides functions for data cleaning, transformation, and analysis.\n",
    "\n",
    "Let's look at some examples of NumPy and Pandas:"
   ]
  },
  {
   "cell_type": "code",
   "execution_count": 7,
   "metadata": {},
   "outputs": [
    {
     "name": "stdout",
     "output_type": "stream",
     "text": [
      "NumPy Array - Atomic Masses:\n",
      "[ 1.008   4.0026  6.94    9.0122 10.81  ]\n",
      "\n",
      "Pandas Series - Atomic Numbers:\n",
      "H     1\n",
      "He    2\n",
      "Li    3\n",
      "Be    4\n",
      "B     5\n",
      "dtype: int64\n",
      "\n",
      "Pandas DataFrame - Element Properties:\n",
      "   Atomic Number  Atomic Mass    Element\n",
      "0              1       1.0080   Hydrogen\n",
      "1              2       4.0026     Helium\n",
      "2              3       6.9400    Lithium\n",
      "3              4       9.0122  Beryllium\n",
      "4              5      10.8100      Boron\n"
     ]
    }
   ],
   "source": [
    "import numpy as np\n",
    "import pandas as pd\n",
    "\n",
    "# Create a NumPy array for atomic masses\n",
    "atomic_masses = np.array([1.008, 4.0026, 6.94, 9.0122, 10.81])  # Hydrogen, Helium, Lithium, Beryllium, Boron\n",
    "\n",
    "# Create a Pandas Series for atomic numbers\n",
    "atomic_numbers = pd.Series([1, 2, 3, 4, 5], index=['H', 'He', 'Li', 'Be', 'B'])\n",
    "\n",
    "# Create a Pandas DataFrame with element properties\n",
    "element_properties = pd.DataFrame({\n",
    "    'Atomic Number': [1, 2, 3, 4, 5],\n",
    "    'Atomic Mass': [1.008, 4.0026, 6.94, 9.0122, 10.81],\n",
    "    'Element': ['Hydrogen', 'Helium', 'Lithium', 'Beryllium', 'Boron']\n",
    "})\n",
    "\n",
    "print(\"NumPy Array - Atomic Masses:\")\n",
    "print(atomic_masses)\n",
    "print(\"\\nPandas Series - Atomic Numbers:\")\n",
    "print(atomic_numbers)\n",
    "print(\"\\nPandas DataFrame - Element Properties:\")\n",
    "print(element_properties)"
   ]
  },
  {
   "cell_type": "markdown",
   "metadata": {},
   "source": [
    "In this example, we import the `numpy` and `pandas` modules and create a NumPy array, a Pandas Series, and a Pandas DataFrame. We then print these data structures to the console.\n",
    "\n",
    "## 1.9: Input and Output Operations\n",
    "\n",
    "Input and output operations are used to interact with the user and read/write data from/to files. Python provides functions such as `print()`, `open()`, `read()`, `write()`, and more for input and output operations.\n",
    "\n",
    "Let's look at some examples of input and output operations in Python:"
   ]
  },
  {
   "cell_type": "code",
   "execution_count": 8,
   "metadata": {},
   "outputs": [
    {
     "name": "stdout",
     "output_type": "stream",
     "text": [
      "Hello, Albert!\n",
      "Hello, Albert!\n"
     ]
    }
   ],
   "source": [
    "# Input and output operations\n",
    "name = \"Albert\"\n",
    "print(\"Hello, \" + name + \"!\")\n",
    "\n",
    "# Writing to a file\n",
    "with open(\"output.txt\", \"w\") as file:\n",
    "    file.write(\"Hello, \" + name + \"!\")\n",
    "\n",
    "# Reading from a file\n",
    "with open(\"output.txt\", \"r\") as file:\n",
    "    content = file.read()\n",
    "    print(content)"
   ]
  },
  {
   "cell_type": "markdown",
   "metadata": {},
   "source": [
    "## 1.10: Conclusion\n",
    "\n",
    "In this module, we introduced you to Python and its basic syntax. We covered various topics such as Python installation and setup, data types, variables and operators, control flow statements, functions and modules, input and output operations, and plotting with Matplotlib."
   ]
  },
  {
   "cell_type": "markdown",
   "metadata": {},
   "source": []
  }
 ],
 "metadata": {
  "kernelspec": {
   "display_name": "comp-prob-solv",
   "language": "python",
   "name": "python3"
  },
  "language_info": {
   "codemirror_mode": {
    "name": "ipython",
    "version": 3
   },
   "file_extension": ".py",
   "mimetype": "text/x-python",
   "name": "python",
   "nbconvert_exporter": "python",
   "pygments_lexer": "ipython3",
   "version": "3.12.4"
  }
 },
 "nbformat": 4,
 "nbformat_minor": 2
}
